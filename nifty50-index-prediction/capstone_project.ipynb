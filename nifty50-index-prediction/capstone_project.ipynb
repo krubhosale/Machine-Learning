{
 "cells": [
  {
   "cell_type": "markdown",
   "metadata": {},
   "source": [
    "**Udacity Machine Learning Nanodegree Capstone Project**\n",
    "\n",
    "**Prediction of stock market price: Forecasting Closing price of Nifty50 (NSE India) three months in advance**"
   ]
  },
  {
   "cell_type": "code",
   "execution_count": 97,
   "metadata": {},
   "outputs": [],
   "source": [
    "import pandas as pd\n",
    "import os"
   ]
  },
  {
   "cell_type": "code",
   "execution_count": 99,
   "metadata": {},
   "outputs": [
    {
     "name": "stdout",
     "output_type": "stream",
     "text": [
      "          Date      Open      High      Low     Close  Shares Traded  \\\n",
      "0  01-Feb-2018  11044.55  11117.35  10878.8  11016.90      315743486   \n",
      "1  02-Feb-2018  10938.20  10954.95  10736.1  10760.60      291431992   \n",
      "2  05-Feb-2018  10604.30  10702.75  10586.8  10666.55      247479157   \n",
      "3  06-Feb-2018  10295.15  10594.15  10276.3  10498.25      274656443   \n",
      "4  07-Feb-2018  10607.20  10614.00  10446.4  10476.70      258095424   \n",
      "\n",
      "   Turnover (Rs. Cr)  \n",
      "0           17719.40  \n",
      "1           16542.51  \n",
      "2           13980.63  \n",
      "3           15606.34  \n",
      "4           13971.66  \n",
      "               Open          High           Low         Close  Shares Traded  \\\n",
      "count    247.000000    247.000000    247.000000    247.000000   2.470000e+02   \n",
      "mean   10764.113158  10807.170850  10698.181377  10753.047571   2.840968e+08   \n",
      "std      383.401311    373.496173    382.483533    377.090108   9.262864e+07   \n",
      "min     9968.800000  10027.700000   9951.900000   9998.050000   3.219418e+07   \n",
      "25%    10519.800000  10569.675000  10457.175000  10515.275000   2.226255e+08   \n",
      "50%    10732.350000  10766.250000  10661.250000  10716.550000   2.584244e+08   \n",
      "75%    10930.625000  10955.925000  10851.250000  10909.400000   3.219109e+08   \n",
      "max    11751.800000  11760.200000  11710.500000  11738.500000   7.411532e+08   \n",
      "\n",
      "       Turnover (Rs. Cr)  \n",
      "count         247.000000  \n",
      "mean        14689.351053  \n",
      "std          4059.354467  \n",
      "min          1534.080000  \n",
      "25%         12000.740000  \n",
      "50%         13837.030000  \n",
      "75%         16533.435000  \n",
      "max         35131.190000  \n"
     ]
    }
   ],
   "source": [
    "# loading the raw data contianing prices\n",
    "nifty50_data = pd.read_csv(\"nifty50_1_yr_data.csv\")\n",
    "print(nifty50_data.head())\n",
    "print(nifty50_data.describe())"
   ]
  },
  {
   "cell_type": "markdown",
   "metadata": {},
   "source": [
    "From the above description of data we see that the corresponding statistics of Open, High, Low & Close are very similar; however, the statistics across Shares Traded & Turnover the vary. This implies the need of standardization of data."
   ]
  },
  {
   "cell_type": "code",
   "execution_count": 3,
   "metadata": {},
   "outputs": [
    {
     "data": {
      "text/plain": [
       "False"
      ]
     },
     "execution_count": 3,
     "metadata": {},
     "output_type": "execute_result"
    }
   ],
   "source": [
    "##To check if NA's are present.\n",
    "nifty50_data.isnull().values.any()"
   ]
  },
  {
   "cell_type": "markdown",
   "metadata": {},
   "source": [
    "Since, there are no null values we see no requirement of null values treatment. \n",
    "\n",
    "We will now standardize the data."
   ]
  },
  {
   "cell_type": "code",
   "execution_count": 179,
   "metadata": {},
   "outputs": [
    {
     "name": "stdout",
     "output_type": "stream",
     "text": [
      "       Open      High       Low     Close  Shares Traded  Turnover (Rs. Cr)\n",
      "0  0.732930  0.832161  0.473185  0.701127       0.342345           0.747952\n",
      "1  0.454981  0.396468  0.099339  0.020069       0.079350           0.457443\n",
      "2 -0.417676 -0.280144 -0.291797 -0.229847      -0.396119          -0.174944\n",
      "3 -1.225649 -0.571501 -1.105245 -0.677066      -0.102123           0.226354\n",
      "4 -0.410097 -0.518246 -0.659617 -0.734330      -0.281275          -0.177158\n"
     ]
    },
    {
     "name": "stderr",
     "output_type": "stream",
     "text": [
      "/home/harshvardhan/.local/lib/python3.7/site-packages/sklearn/preprocessing/data.py:625: DataConversionWarning: Data with input dtype int64, float64 were all converted to float64 by StandardScaler.\n",
      "  return self.partial_fit(X, y)\n",
      "/home/harshvardhan/.local/lib/python3.7/site-packages/sklearn/base.py:462: DataConversionWarning: Data with input dtype int64, float64 were all converted to float64 by StandardScaler.\n",
      "  return self.fit(X, **fit_params).transform(X)\n"
     ]
    }
   ],
   "source": [
    "from sklearn import preprocessing\n",
    "\n",
    "numeric_columns = [\"Open\", \"High\", \"Low\", \"Close\", \"Shares Traded\", \"Turnover (Rs. Cr)\"]\n",
    "# Get column names first\n",
    "nifty50_data_numeric = nifty50_data[numeric_columns]\n",
    "# Create the Scaler object\n",
    "scaler = preprocessing.StandardScaler()\n",
    "scaled_df = scaler.fit_transform(nifty50_data_numeric)\n",
    "scaled_df = pd.DataFrame(scaled_df, columns=numeric_columns)\n",
    "print(scaled_df.head())"
   ]
  },
  {
   "cell_type": "code",
   "execution_count": 5,
   "metadata": {},
   "outputs": [
    {
     "data": {
      "text/plain": [
       "<Figure size 640x480 with 2 Axes>"
      ]
     },
     "metadata": {},
     "output_type": "display_data"
    }
   ],
   "source": [
    "###Creating some plots for better data distribution understanding####\n",
    "##To check the difference in distribution before & after standardization###\n",
    "import matplotlib.pyplot as plt\n",
    "fig = plt.figure()\n",
    "\n",
    "ax1 = fig.add_subplot(121)\n",
    "ax1.hist(nifty50_data['Open'], color='red', edgecolor = 'black', bins=50)\n",
    "plt.title('Open before Standardization')\n",
    "\n",
    "ax2 = fig.add_subplot(122)\n",
    "ax2.hist(scaled_df['Open'], color='blue', edgecolor = 'black', bins=50)\n",
    "plt.title('Open after Standardization')\n",
    "plt.show()"
   ]
  },
  {
   "cell_type": "code",
   "execution_count": 6,
   "metadata": {},
   "outputs": [
    {
     "data": {
      "image/png": "[encoded data removed]",
      "text/plain": [
       "<Figure size 432x288 with 2 Axes>"
      ]
     },
     "metadata": {
      "needs_background": "light"
     },
     "output_type": "display_data"
    }
   ],
   "source": [
    "fig = plt.figure()\n",
    "\n",
    "ax1 = fig.add_subplot(121)\n",
    "ax1.hist(nifty50_data['High'], color='red', edgecolor = 'black', bins=50)\n",
    "plt.title('High before Standardization')\n",
    "\n",
    "ax2 = fig.add_subplot(122)\n",
    "ax2.hist(scaled_df['High'], color='blue', edgecolor = 'black', bins=50)\n",
    "plt.title('High after Standardization')\n",
    "plt.show()"
   ]
  },
  {
   "cell_type": "code",
   "execution_count": 7,
   "metadata": {},
   "outputs": [
    {
     "data": {
      "text/plain": [
       "Text(0.5, 1.0, 'Low after Standardization')"
      ]
     },
     "execution_count": 7,
     "metadata": {},
     "output_type": "execute_result"
    },
    {
     "data": {
      "image/png": "[encoded data removed]",
      "text/plain": [
       "<Figure size 432x288 with 2 Axes>"
      ]
     },
     "metadata": {
      "needs_background": "light"
     },
     "output_type": "display_data"
    }
   ],
   "source": [
    "fig = plt.figure()\n",
    "\n",
    "ax1 = fig.add_subplot(121)\n",
    "ax1.hist(nifty50_data['Low'], color='red', edgecolor = 'black', bins=50)\n",
    "plt.title('Low before Standardization')\n",
    "\n",
    "ax2 = fig.add_subplot(122)\n",
    "ax2.hist(scaled_df['Low'], color='blue', edgecolor = 'black', bins=50)\n",
    "plt.title('Low after Standardization')"
   ]
  },
  {
   "cell_type": "code",
   "execution_count": 8,
   "metadata": {},
   "outputs": [
    {
     "data": {
      "text/plain": [
       "Text(0.5, 1.0, 'Close after Standardization')"
      ]
     },
     "execution_count": 8,
     "metadata": {},
     "output_type": "execute_result"
    },
    {
     "data": {
      "image/png": "[encoded data removed]",
      "text/plain": [
       "<Figure size 432x288 with 2 Axes>"
      ]
     },
     "metadata": {
      "needs_background": "light"
     },
     "output_type": "display_data"
    }
   ],
   "source": [
    "fig = plt.figure()\n",
    "\n",
    "ax1 = fig.add_subplot(121)\n",
    "ax1.hist(nifty50_data['Close'], color='red', edgecolor = 'black', bins=50)\n",
    "plt.title('Close before Standardization')\n",
    "\n",
    "ax2 = fig.add_subplot(122)\n",
    "ax2.hist(scaled_df['Close'], color='blue', edgecolor = 'black', bins=50)\n",
    "plt.title('Close after Standardization')"
   ]
  },
  {
   "cell_type": "markdown",
   "metadata": {},
   "source": [
    "For all the variables above (Open, High, Low, Close) we observe an approximte occurrence of Gaussian distribution which tells us that every latest value is pretty much independent of the occurrence of corresponding values in the past in the range of approximately 10000-11250. However, after this range  we see an occurrence of new approximate Gaussian distribution with the range 11250-11700 which again has independent values. This indicates that in the past values in 1st Gaussian distribution can possibly be dependent on the occurrence of values in the range of 2nd Gaussian distribution and vice-a-versa. "
   ]
  },
  {
   "cell_type": "code",
   "execution_count": 9,
   "metadata": {},
   "outputs": [
    {
     "data": {
      "text/plain": [
       "Text(0.5, 1.0, 'Shares Traded after Standardization')"
      ]
     },
     "execution_count": 9,
     "metadata": {},
     "output_type": "execute_result"
    },
    {
     "data": {
      "image/png": "[encoded data removed]",
      "text/plain": [
       "<Figure size 432x288 with 2 Axes>"
      ]
     },
     "metadata": {
      "needs_background": "light"
     },
     "output_type": "display_data"
    }
   ],
   "source": [
    "fig = plt.figure()\n",
    "\n",
    "ax1 = fig.add_subplot(131)\n",
    "ax1.hist(nifty50_data['Shares Traded'], color='red', edgecolor = 'black', bins=50)\n",
    "plt.title('Shares Traded before Standardization')\n",
    "\n",
    "ax2 = fig.add_subplot(133)\n",
    "ax2.hist(scaled_df['Shares Traded'], color='blue', edgecolor = 'black', bins=50)\n",
    "plt.title('Shares Traded after Standardization')"
   ]
  },
  {
   "cell_type": "code",
   "execution_count": 10,
   "metadata": {},
   "outputs": [
    {
     "data": {
      "text/plain": [
       "Text(0.5, 1.0, 'Turnover (Rs. Cr) after Standardization')"
      ]
     },
     "execution_count": 10,
     "metadata": {},
     "output_type": "execute_result"
    },
    {
     "data": {
      "image/png": "[encoded data removed]",
      "text/plain": [
       "<Figure size 432x288 with 2 Axes>"
      ]
     },
     "metadata": {
      "needs_background": "light"
     },
     "output_type": "display_data"
    }
   ],
   "source": [
    "fig = plt.figure()\n",
    "\n",
    "ax1 = fig.add_subplot(131)\n",
    "ax1.hist(nifty50_data['Turnover (Rs. Cr)'], color='red', edgecolor = 'black', bins=50)\n",
    "plt.title('Turnover (Rs. Cr) before Standardization')\n",
    "\n",
    "ax2 = fig.add_subplot(133)\n",
    "ax2.hist(scaled_df['Turnover (Rs. Cr)'], color='blue', edgecolor = 'black', bins=50)\n",
    "plt.title('Turnover (Rs. Cr) after Standardization')"
   ]
  },
  {
   "cell_type": "markdown",
   "metadata": {},
   "source": [
    "As we see that, all of the variables exhibit the same (Gaussian) distribution before & after standardization. This primarily means that there is no loss of information. And also that the optimizer can be efficiently used for converging to minimum error quickly. \n",
    "\n",
    "We will now analyse the dependence of our target variable Close on the other predictors."
   ]
  },
  {
   "cell_type": "code",
   "execution_count": 103,
   "metadata": {},
   "outputs": [
    {
     "name": "stderr",
     "output_type": "stream",
     "text": [
      "'c' argument looks like a single numeric RGB or RGBA sequence, which should be avoided as value-mapping will have precedence in case its length matches with 'x' & 'y'.  Please use a 2-D array with a single row if you really want to specify the same RGB or RGBA value for all points.\n",
      "'c' argument looks like a single numeric RGB or RGBA sequence, which should be avoided as value-mapping will have precedence in case its length matches with 'x' & 'y'.  Please use a 2-D array with a single row if you really want to specify the same RGB or RGBA value for all points.\n"
     ]
    },
    {
     "data": {
      "image/png": "[encoded data removed]",
      "text/plain": [
       "<Figure size 432x288 with 2 Axes>"
      ]
     },
     "metadata": {
      "needs_background": "light"
     },
     "output_type": "display_data"
    }
   ],
   "source": [
    "#####CREATING SCATTER PLOT#####\n",
    "\n",
    "import numpy as np\n",
    "import matplotlib.pyplot as plt\n",
    "\n",
    "fig = plt.figure()\n",
    "\n",
    "# Create data\n",
    "\n",
    "x = nifty50_data['Open']\n",
    "y = nifty50_data['Close']\n",
    "colors = (0,0,0)\n",
    "area = np.pi*3\n",
    "\n",
    "####### OPEN VS CLOSE###########\n",
    "ax1 = fig.add_subplot(131)\n",
    "ax1.scatter(x, y, s=area, c=colors, alpha=0.5)\n",
    "plt.title('Open vs Close before standardization')\n",
    "plt.xlabel('Open')\n",
    "plt.ylabel('Close')\n",
    "# plt.show()\n",
    "\n",
    "# Create data\n",
    "x = scaled_df['Open']\n",
    "y = scaled_df['Close']\n",
    "colors = (0,0,0)\n",
    "area = np.pi*3\n",
    "\n",
    "####### OPEN VS CLOSE###########\n",
    "ax2 = fig.add_subplot(133)\n",
    "ax2.scatter(x, y, s=area, c=colors, alpha=0.5)\n",
    "plt.title('Open vs Close after standardization')\n",
    "plt.xlabel('Open')\n",
    "plt.ylabel('Close')\n",
    "\n",
    "plt.show()"
   ]
  },
  {
   "cell_type": "code",
   "execution_count": 12,
   "metadata": {},
   "outputs": [
    {
     "name": "stderr",
     "output_type": "stream",
     "text": [
      "'c' argument looks like a single numeric RGB or RGBA sequence, which should be avoided as value-mapping will have precedence in case its length matches with 'x' & 'y'.  Please use a 2-D array with a single row if you really want to specify the same RGB or RGBA value for all points.\n",
      "'c' argument looks like a single numeric RGB or RGBA sequence, which should be avoided as value-mapping will have precedence in case its length matches with 'x' & 'y'.  Please use a 2-D array with a single row if you really want to specify the same RGB or RGBA value for all points.\n"
     ]
    },
    {
     "data": {
      "image/png": "[encoded data removed]",
      "text/plain": [
       "<Figure size 432x288 with 2 Axes>"
      ]
     },
     "metadata": {
      "needs_background": "light"
     },
     "output_type": "display_data"
    }
   ],
   "source": [
    "#####CREATING SCATTER PLOT#####\n",
    "\n",
    "import numpy as np\n",
    "import matplotlib.pyplot as plt\n",
    "\n",
    "fig = plt.figure()\n",
    "\n",
    "# Create data\n",
    "x = nifty50_data['Turnover (Rs. Cr)']\n",
    "y = nifty50_data['Close']\n",
    "colors = (0,0,0)\n",
    "area = np.pi*3\n",
    "\n",
    "####### OPEN VS CLOSE###########\n",
    "ax1 = fig.add_subplot(141)\n",
    "ax1.scatter(x, y, s=area, c=colors, alpha=0.5)\n",
    "plt.title('Turnover vs Close before standardization')\n",
    "plt.xlabel('Turnover (Rs. Cr)')\n",
    "plt.ylabel('Close')\n",
    "# plt.show()\n",
    "\n",
    "# Create data\n",
    "x = scaled_df['Turnover (Rs. Cr)']\n",
    "y = scaled_df['Close']\n",
    "colors = (0,0,0)\n",
    "area = np.pi*3\n",
    "\n",
    "####### OPEN VS CLOSE###########\n",
    "ax2 = fig.add_subplot(144)\n",
    "ax2.scatter(x, y, s=area, c=colors, alpha=0.5)\n",
    "plt.title('Turnover vs Close after standardization')\n",
    "plt.xlabel('Turnover (Rs. Cr)')\n",
    "plt.ylabel('Close')\n",
    "\n",
    "plt.show()"
   ]
  },
  {
   "cell_type": "code",
   "execution_count": 13,
   "metadata": {},
   "outputs": [
    {
     "name": "stderr",
     "output_type": "stream",
     "text": [
      "'c' argument looks like a single numeric RGB or RGBA sequence, which should be avoided as value-mapping will have precedence in case its length matches with 'x' & 'y'.  Please use a 2-D array with a single row if you really want to specify the same RGB or RGBA value for all points.\n",
      "'c' argument looks like a single numeric RGB or RGBA sequence, which should be avoided as value-mapping will have precedence in case its length matches with 'x' & 'y'.  Please use a 2-D array with a single row if you really want to specify the same RGB or RGBA value for all points.\n"
     ]
    },
    {
     "data": {
      "image/png": "[encoded data removed]",
      "text/plain": [
       "<Figure size 432x288 with 2 Axes>"
      ]
     },
     "metadata": {
      "needs_background": "light"
     },
     "output_type": "display_data"
    }
   ],
   "source": [
    "#####CREATING SCATTER PLOT#####\n",
    "\n",
    "import numpy as np\n",
    "import matplotlib.pyplot as plt\n",
    "\n",
    "fig = plt.figure()\n",
    "\n",
    "# Create data\n",
    "x = nifty50_data['High']\n",
    "y = nifty50_data['Close']\n",
    "colors = (0,0,0)\n",
    "area = np.pi*3\n",
    "\n",
    "####### OPEN VS CLOSE###########\n",
    "ax1 = fig.add_subplot(131)\n",
    "ax1.scatter(x, y, s=area, c=colors, alpha=0.5)\n",
    "plt.title('High vs Close before standardization')\n",
    "plt.xlabel('High')\n",
    "plt.ylabel('Close')\n",
    "# plt.show()\n",
    "\n",
    "# Create data\n",
    "x = scaled_df['High']\n",
    "y = scaled_df['Close']\n",
    "colors = (0,0,0)\n",
    "area = np.pi*3\n",
    "\n",
    "####### OPEN VS CLOSE###########\n",
    "ax2 = fig.add_subplot(133)\n",
    "ax2.scatter(x, y, s=area, c=colors, alpha=0.5)\n",
    "plt.title('High vs Close after standardization')\n",
    "plt.xlabel('High')\n",
    "plt.ylabel('Close')\n",
    "\n",
    "plt.show()"
   ]
  },
  {
   "cell_type": "code",
   "execution_count": 14,
   "metadata": {},
   "outputs": [
    {
     "name": "stderr",
     "output_type": "stream",
     "text": [
      "'c' argument looks like a single numeric RGB or RGBA sequence, which should be avoided as value-mapping will have precedence in case its length matches with 'x' & 'y'.  Please use a 2-D array with a single row if you really want to specify the same RGB or RGBA value for all points.\n",
      "'c' argument looks like a single numeric RGB or RGBA sequence, which should be avoided as value-mapping will have precedence in case its length matches with 'x' & 'y'.  Please use a 2-D array with a single row if you really want to specify the same RGB or RGBA value for all points.\n"
     ]
    },
    {
     "data": {
      "image/png": "[encoded data removed]",
      "text/plain": [
       "<Figure size 432x288 with 2 Axes>"
      ]
     },
     "metadata": {
      "needs_background": "light"
     },
     "output_type": "display_data"
    }
   ],
   "source": [
    "#####CREATING SCATTER PLOT#####\n",
    "\n",
    "import numpy as np\n",
    "import matplotlib.pyplot as plt\n",
    "\n",
    "fig = plt.figure()\n",
    "\n",
    "# Create data\n",
    "x = nifty50_data['Low']\n",
    "y = nifty50_data['Close']\n",
    "colors = (0,0,0)\n",
    "area = np.pi*3\n",
    "\n",
    "\n",
    "ax1 = fig.add_subplot(131)\n",
    "ax1.scatter(x, y, s=area, c=colors, alpha=0.5)\n",
    "plt.title('Low vs Close before standardization')\n",
    "plt.xlabel('Low')\n",
    "plt.ylabel('Close')\n",
    "# plt.show()\n",
    "\n",
    "# Create data\n",
    "x = scaled_df['Low']\n",
    "y = scaled_df['Close']\n",
    "colors = (0,0,0)\n",
    "area = np.pi*3\n",
    "\n",
    "\n",
    "ax2 = fig.add_subplot(133)\n",
    "ax2.scatter(x, y, s=area, c=colors, alpha=0.5)\n",
    "plt.title('Low vs Close after standardization')\n",
    "plt.xlabel('Low')\n",
    "plt.ylabel('Close')\n",
    "\n",
    "plt.show()"
   ]
  },
  {
   "cell_type": "code",
   "execution_count": 15,
   "metadata": {},
   "outputs": [
    {
     "name": "stderr",
     "output_type": "stream",
     "text": [
      "'c' argument looks like a single numeric RGB or RGBA sequence, which should be avoided as value-mapping will have precedence in case its length matches with 'x' & 'y'.  Please use a 2-D array with a single row if you really want to specify the same RGB or RGBA value for all points.\n",
      "'c' argument looks like a single numeric RGB or RGBA sequence, which should be avoided as value-mapping will have precedence in case its length matches with 'x' & 'y'.  Please use a 2-D array with a single row if you really want to specify the same RGB or RGBA value for all points.\n"
     ]
    },
    {
     "data": {
      "image/png": "[encoded data removed]",
      "text/plain": [
       "<Figure size 432x288 with 2 Axes>"
      ]
     },
     "metadata": {
      "needs_background": "light"
     },
     "output_type": "display_data"
    }
   ],
   "source": [
    "#####CREATING SCATTER PLOT#####\n",
    "\n",
    "import numpy as np\n",
    "import matplotlib.pyplot as plt\n",
    "\n",
    "fig = plt.figure()\n",
    "\n",
    "# Create data\n",
    "x = nifty50_data['Shares Traded']\n",
    "y = nifty50_data['Close']\n",
    "colors = (0,0,0)\n",
    "area = np.pi*3\n",
    "\n",
    "ax1 = fig.add_subplot(131)\n",
    "ax1.scatter(x, y, s=area, c=colors, alpha=0.5)\n",
    "plt.title('Before standardization')\n",
    "plt.xlabel('ST')\n",
    "plt.ylabel('Close')\n",
    "\n",
    "\n",
    "# Create data\n",
    "x = scaled_df['Shares Traded']\n",
    "y = scaled_df['Close']\n",
    "colors = (0,0,0)\n",
    "area = np.pi*3\n",
    "\n",
    "\n",
    "ax2 = fig.add_subplot(133)\n",
    "ax2.scatter(x, y, s=area, c=colors, alpha=0.5)\n",
    "plt.title('After standardization')\n",
    "plt.xlabel('Shares Traded')\n",
    "plt.ylabel('Close')\n",
    "\n",
    "plt.show()"
   ]
  },
  {
   "cell_type": "markdown",
   "metadata": {},
   "source": [
    "So, here we have found correlation of every independent variable with Close (dependent variable) in both the datas (raw available data & the standardized data). By doing this we see that correlation co-efficient (& pattern) is the same in both the cases which indicates that standardized data has no loss of information and can be efficiently used for furthr analysis.\n",
    "Moreover, out of all the variables we see that Open, High & Low are linearly positively correlated while Shares Traded & Turnover(Rs. Cr) has no correlation with Close.\n",
    "\n",
    "For maximum days the no. of Shares Traded is between 0.2x10^ to 0.4x10^9 while the turnover is Rs.5000-Rs.15000 Crs."
   ]
  },
  {
   "cell_type": "code",
   "execution_count": 16,
   "metadata": {},
   "outputs": [
    {
     "name": "stderr",
     "output_type": "stream",
     "text": [
      "'c' argument looks like a single numeric RGB or RGBA sequence, which should be avoided as value-mapping will have precedence in case its length matches with 'x' & 'y'.  Please use a 2-D array with a single row if you really want to specify the same RGB or RGBA value for all points.\n",
      "'c' argument looks like a single numeric RGB or RGBA sequence, which should be avoided as value-mapping will have precedence in case its length matches with 'x' & 'y'.  Please use a 2-D array with a single row if you really want to specify the same RGB or RGBA value for all points.\n"
     ]
    },
    {
     "data": {
      "image/png": "[encoded data removed]",
      "text/plain": [
       "<Figure size 432x288 with 2 Axes>"
      ]
     },
     "metadata": {
      "needs_background": "light"
     },
     "output_type": "display_data"
    }
   ],
   "source": [
    "fig = plt.figure()\n",
    "\n",
    "# Create data\n",
    "x = nifty50_data['Shares Traded']\n",
    "y = nifty50_data['Turnover (Rs. Cr)']\n",
    "colors = (0,0,0)\n",
    "area = np.pi*3\n",
    "\n",
    "ax1 = fig.add_subplot(131)\n",
    "ax1.scatter(x, y, s=area, c=colors, alpha=0.5)\n",
    "plt.title('Before standardization')\n",
    "plt.xlabel('Shares Traded')\n",
    "plt.ylabel('Turnover (Rs. Cr)')\n",
    "\n",
    "\n",
    "# Create data\n",
    "x = scaled_df['Shares Traded']\n",
    "y = scaled_df['Turnover (Rs. Cr)']\n",
    "colors = (0,0,0)\n",
    "area = np.pi*3\n",
    "\n",
    "\n",
    "ax2 = fig.add_subplot(133)\n",
    "ax2.scatter(x, y, s=area, c=colors, alpha=0.5)\n",
    "plt.title('After standardization')\n",
    "plt.xlabel('Shares Traded')\n",
    "plt.ylabel('Turnover (Rs. Cr)')\n",
    "\n",
    "plt.show()"
   ]
  },
  {
   "cell_type": "markdown",
   "metadata": {},
   "source": [
    "The above graph explains well that the days when lesser no. of shares are traded it is strongly correlated to the turnover than the days when higher no. of shares are traded."
   ]
  },
  {
   "cell_type": "markdown",
   "metadata": {},
   "source": [
    "Based on above results and patterns I believe to keep linear regression as the first model to predict the Close price and use this as the benchmark model. Since this is a time series data spread over the span of one year, we will create train data using data of first nine months and test data using data for last 3 months."
   ]
  },
  {
   "cell_type": "code",
   "execution_count": 17,
   "metadata": {},
   "outputs": [],
   "source": [
    "train_data=scaled_df[0:184]\n",
    "test_data=scaled_df[184:]\n",
    "\n",
    "predictors = [\"Open\", \"High\", \"Low\", \"Shares Traded\", \"Turnover (Rs. Cr)\"]\n",
    "target = [\"Close\"]\n",
    "\n",
    "train_X = train_data[predictors]\n",
    "train_y = train_data[target]\n",
    "test_X = test_data[predictors]\n",
    "test_y = test_data[target]"
   ]
  },
  {
   "cell_type": "code",
   "execution_count": 163,
   "metadata": {},
   "outputs": [],
   "source": [
    "import statsmodels.api as sm\n",
    "from sklearn.metrics import mean_absolute_error"
   ]
  },
  {
   "cell_type": "code",
   "execution_count": 25,
   "metadata": {},
   "outputs": [
    {
     "data": {
      "text/html": [
       "<table class=\"simpletable\">\n",
       "<caption>OLS Regression Results</caption>\n",
       "<tr>\n",
       "  <th>Dep. Variable:</th>          <td>Close</td>      <th>  R-squared:         </th> <td>   0.996</td> \n",
       "</tr>\n",
       "<tr>\n",
       "  <th>Model:</th>                   <td>OLS</td>       <th>  Adj. R-squared:    </th> <td>   0.996</td> \n",
       "</tr>\n",
       "<tr>\n",
       "  <th>Method:</th>             <td>Least Squares</td>  <th>  F-statistic:       </th> <td>   9475.</td> \n",
       "</tr>\n",
       "<tr>\n",
       "  <th>Date:</th>             <td>Fri, 15 Feb 2019</td> <th>  Prob (F-statistic):</th> <td>6.80e-215</td>\n",
       "</tr>\n",
       "<tr>\n",
       "  <th>Time:</th>                 <td>13:13:58</td>     <th>  Log-Likelihood:    </th> <td>  228.65</td> \n",
       "</tr>\n",
       "<tr>\n",
       "  <th>No. Observations:</th>      <td>   184</td>      <th>  AIC:               </th> <td>  -447.3</td> \n",
       "</tr>\n",
       "<tr>\n",
       "  <th>Df Residuals:</th>          <td>   179</td>      <th>  BIC:               </th> <td>  -431.2</td> \n",
       "</tr>\n",
       "<tr>\n",
       "  <th>Df Model:</th>              <td>     5</td>      <th>                     </th>     <td> </td>    \n",
       "</tr>\n",
       "<tr>\n",
       "  <th>Covariance Type:</th>      <td>nonrobust</td>    <th>                     </th>     <td> </td>    \n",
       "</tr>\n",
       "</table>\n",
       "<table class=\"simpletable\">\n",
       "<tr>\n",
       "          <td></td>             <th>coef</th>     <th>std err</th>      <th>t</th>      <th>P>|t|</th>  <th>[0.025</th>    <th>0.975]</th>  \n",
       "</tr>\n",
       "<tr>\n",
       "  <th>Open</th>              <td>   -0.6888</td> <td>    0.048</td> <td>  -14.313</td> <td> 0.000</td> <td>   -0.784</td> <td>   -0.594</td>\n",
       "</tr>\n",
       "<tr>\n",
       "  <th>High</th>              <td>    0.9101</td> <td>    0.055</td> <td>   16.669</td> <td> 0.000</td> <td>    0.802</td> <td>    1.018</td>\n",
       "</tr>\n",
       "<tr>\n",
       "  <th>Low</th>               <td>    0.7748</td> <td>    0.044</td> <td>   17.728</td> <td> 0.000</td> <td>    0.689</td> <td>    0.861</td>\n",
       "</tr>\n",
       "<tr>\n",
       "  <th>Shares Traded</th>     <td>    0.0225</td> <td>    0.015</td> <td>    1.496</td> <td> 0.136</td> <td>   -0.007</td> <td>    0.052</td>\n",
       "</tr>\n",
       "<tr>\n",
       "  <th>Turnover (Rs. Cr)</th> <td>   -0.0076</td> <td>    0.014</td> <td>   -0.527</td> <td> 0.599</td> <td>   -0.036</td> <td>    0.021</td>\n",
       "</tr>\n",
       "</table>\n",
       "<table class=\"simpletable\">\n",
       "<tr>\n",
       "  <th>Omnibus:</th>       <td> 7.768</td> <th>  Durbin-Watson:     </th> <td>   2.144</td>\n",
       "</tr>\n",
       "<tr>\n",
       "  <th>Prob(Omnibus):</th> <td> 0.021</td> <th>  Jarque-Bera (JB):  </th> <td>  13.490</td>\n",
       "</tr>\n",
       "<tr>\n",
       "  <th>Skew:</th>          <td> 0.113</td> <th>  Prob(JB):          </th> <td> 0.00118</td>\n",
       "</tr>\n",
       "<tr>\n",
       "  <th>Kurtosis:</th>      <td> 4.307</td> <th>  Cond. No.          </th> <td>    25.4</td>\n",
       "</tr>\n",
       "</table><br/><br/>Warnings:<br/>[1] Standard Errors assume that the covariance matrix of the errors is correctly specified."
      ],
      "text/plain": [
       "<class 'statsmodels.iolib.summary.Summary'>\n",
       "\"\"\"\n",
       "                            OLS Regression Results                            \n",
       "==============================================================================\n",
       "Dep. Variable:                  Close   R-squared:                       0.996\n",
       "Model:                            OLS   Adj. R-squared:                  0.996\n",
       "Method:                 Least Squares   F-statistic:                     9475.\n",
       "Date:                Fri, 15 Feb 2019   Prob (F-statistic):          6.80e-215\n",
       "Time:                        13:13:58   Log-Likelihood:                 228.65\n",
       "No. Observations:                 184   AIC:                            -447.3\n",
       "Df Residuals:                     179   BIC:                            -431.2\n",
       "Df Model:                           5                                         \n",
       "Covariance Type:            nonrobust                                         \n",
       "=====================================================================================\n",
       "                        coef    std err          t      P>|t|      [0.025      0.975]\n",
       "-------------------------------------------------------------------------------------\n",
       "Open                 -0.6888      0.048    -14.313      0.000      -0.784      -0.594\n",
       "High                  0.9101      0.055     16.669      0.000       0.802       1.018\n",
       "Low                   0.7748      0.044     17.728      0.000       0.689       0.861\n",
       "Shares Traded         0.0225      0.015      1.496      0.136      -0.007       0.052\n",
       "Turnover (Rs. Cr)    -0.0076      0.014     -0.527      0.599      -0.036       0.021\n",
       "==============================================================================\n",
       "Omnibus:                        7.768   Durbin-Watson:                   2.144\n",
       "Prob(Omnibus):                  0.021   Jarque-Bera (JB):               13.490\n",
       "Skew:                           0.113   Prob(JB):                      0.00118\n",
       "Kurtosis:                       4.307   Cond. No.                         25.4\n",
       "==============================================================================\n",
       "\n",
       "Warnings:\n",
       "[1] Standard Errors assume that the covariance matrix of the errors is correctly specified.\n",
       "\"\"\""
      ]
     },
     "execution_count": 25,
     "metadata": {},
     "output_type": "execute_result"
    }
   ],
   "source": [
    "#Linear model with all predictors\n",
    "model1 = sm.OLS(train_y, train_X).fit()\n",
    "model1.summary()"
   ]
  },
  {
   "cell_type": "markdown",
   "metadata": {},
   "source": [
    "From the above model summary we see that we have a very good R-squared & Adj R-squared scores; now we will look at the p-value. We see that Turnover (Rs. Cr) has high value (0.599 i.e above 0.5) hence let us drop that variable and analyse the results with new model."
   ]
  },
  {
   "cell_type": "code",
   "execution_count": 26,
   "metadata": {},
   "outputs": [
    {
     "data": {
      "text/html": [
       "<table class=\"simpletable\">\n",
       "<caption>OLS Regression Results</caption>\n",
       "<tr>\n",
       "  <th>Dep. Variable:</th>          <td>Close</td>      <th>  R-squared:         </th> <td>   0.996</td> \n",
       "</tr>\n",
       "<tr>\n",
       "  <th>Model:</th>                   <td>OLS</td>       <th>  Adj. R-squared:    </th> <td>   0.996</td> \n",
       "</tr>\n",
       "<tr>\n",
       "  <th>Method:</th>             <td>Least Squares</td>  <th>  F-statistic:       </th> <td>1.189e+04</td>\n",
       "</tr>\n",
       "<tr>\n",
       "  <th>Date:</th>             <td>Fri, 15 Feb 2019</td> <th>  Prob (F-statistic):</th> <td>6.72e-217</td>\n",
       "</tr>\n",
       "<tr>\n",
       "  <th>Time:</th>                 <td>13:13:59</td>     <th>  Log-Likelihood:    </th> <td>  228.51</td> \n",
       "</tr>\n",
       "<tr>\n",
       "  <th>No. Observations:</th>      <td>   184</td>      <th>  AIC:               </th> <td>  -449.0</td> \n",
       "</tr>\n",
       "<tr>\n",
       "  <th>Df Residuals:</th>          <td>   180</td>      <th>  BIC:               </th> <td>  -436.2</td> \n",
       "</tr>\n",
       "<tr>\n",
       "  <th>Df Model:</th>              <td>     4</td>      <th>                     </th>     <td> </td>    \n",
       "</tr>\n",
       "<tr>\n",
       "  <th>Covariance Type:</th>      <td>nonrobust</td>    <th>                     </th>     <td> </td>    \n",
       "</tr>\n",
       "</table>\n",
       "<table class=\"simpletable\">\n",
       "<tr>\n",
       "        <td></td>           <th>coef</th>     <th>std err</th>      <th>t</th>      <th>P>|t|</th>  <th>[0.025</th>    <th>0.975]</th>  \n",
       "</tr>\n",
       "<tr>\n",
       "  <th>Open</th>          <td>   -0.6881</td> <td>    0.048</td> <td>  -14.332</td> <td> 0.000</td> <td>   -0.783</td> <td>   -0.593</td>\n",
       "</tr>\n",
       "<tr>\n",
       "  <th>High</th>          <td>    0.9052</td> <td>    0.054</td> <td>   16.861</td> <td> 0.000</td> <td>    0.799</td> <td>    1.011</td>\n",
       "</tr>\n",
       "<tr>\n",
       "  <th>Low</th>           <td>    0.7781</td> <td>    0.043</td> <td>   18.024</td> <td> 0.000</td> <td>    0.693</td> <td>    0.863</td>\n",
       "</tr>\n",
       "<tr>\n",
       "  <th>Shares Traded</th> <td>    0.0154</td> <td>    0.007</td> <td>    2.296</td> <td> 0.023</td> <td>    0.002</td> <td>    0.029</td>\n",
       "</tr>\n",
       "</table>\n",
       "<table class=\"simpletable\">\n",
       "<tr>\n",
       "  <th>Omnibus:</th>       <td> 7.302</td> <th>  Durbin-Watson:     </th> <td>   2.151</td>\n",
       "</tr>\n",
       "<tr>\n",
       "  <th>Prob(Omnibus):</th> <td> 0.026</td> <th>  Jarque-Bera (JB):  </th> <td>  12.110</td>\n",
       "</tr>\n",
       "<tr>\n",
       "  <th>Skew:</th>          <td> 0.117</td> <th>  Prob(JB):          </th> <td> 0.00235</td>\n",
       "</tr>\n",
       "<tr>\n",
       "  <th>Kurtosis:</th>      <td> 4.235</td> <th>  Cond. No.          </th> <td>    25.1</td>\n",
       "</tr>\n",
       "</table><br/><br/>Warnings:<br/>[1] Standard Errors assume that the covariance matrix of the errors is correctly specified."
      ],
      "text/plain": [
       "<class 'statsmodels.iolib.summary.Summary'>\n",
       "\"\"\"\n",
       "                            OLS Regression Results                            \n",
       "==============================================================================\n",
       "Dep. Variable:                  Close   R-squared:                       0.996\n",
       "Model:                            OLS   Adj. R-squared:                  0.996\n",
       "Method:                 Least Squares   F-statistic:                 1.189e+04\n",
       "Date:                Fri, 15 Feb 2019   Prob (F-statistic):          6.72e-217\n",
       "Time:                        13:13:59   Log-Likelihood:                 228.51\n",
       "No. Observations:                 184   AIC:                            -449.0\n",
       "Df Residuals:                     180   BIC:                            -436.2\n",
       "Df Model:                           4                                         \n",
       "Covariance Type:            nonrobust                                         \n",
       "=================================================================================\n",
       "                    coef    std err          t      P>|t|      [0.025      0.975]\n",
       "---------------------------------------------------------------------------------\n",
       "Open             -0.6881      0.048    -14.332      0.000      -0.783      -0.593\n",
       "High              0.9052      0.054     16.861      0.000       0.799       1.011\n",
       "Low               0.7781      0.043     18.024      0.000       0.693       0.863\n",
       "Shares Traded     0.0154      0.007      2.296      0.023       0.002       0.029\n",
       "==============================================================================\n",
       "Omnibus:                        7.302   Durbin-Watson:                   2.151\n",
       "Prob(Omnibus):                  0.026   Jarque-Bera (JB):               12.110\n",
       "Skew:                           0.117   Prob(JB):                      0.00235\n",
       "Kurtosis:                       4.235   Cond. No.                         25.1\n",
       "==============================================================================\n",
       "\n",
       "Warnings:\n",
       "[1] Standard Errors assume that the covariance matrix of the errors is correctly specified.\n",
       "\"\"\""
      ]
     },
     "execution_count": 26,
     "metadata": {},
     "output_type": "execute_result"
    }
   ],
   "source": [
    "X=pd.DataFrame(train_data, columns = [\"Open\", \"High\", \"Low\", \"Shares Traded\"])\n",
    "y=pd.DataFrame(train_data, columns =[\"Close\"])\n",
    "model2 = sm.OLS(y, X).fit()\n",
    "model2.summary()"
   ]
  },
  {
   "cell_type": "markdown",
   "metadata": {},
   "source": [
    "By running the model without Turnover (Rs. Cr) though we get the same R-Squared & Adj R-squared scores; we even see that Shares Traded has a better value (0.023) in current model than in the previous model (0.136). But let us still review the model by including Turnover & removing shares Traded."
   ]
  },
  {
   "cell_type": "code",
   "execution_count": 27,
   "metadata": {},
   "outputs": [
    {
     "data": {
      "text/html": [
       "<table class=\"simpletable\">\n",
       "<caption>OLS Regression Results</caption>\n",
       "<tr>\n",
       "  <th>Dep. Variable:</th>          <td>Close</td>      <th>  R-squared:         </th> <td>   0.996</td> \n",
       "</tr>\n",
       "<tr>\n",
       "  <th>Model:</th>                   <td>OLS</td>       <th>  Adj. R-squared:    </th> <td>   0.996</td> \n",
       "</tr>\n",
       "<tr>\n",
       "  <th>Method:</th>             <td>Least Squares</td>  <th>  F-statistic:       </th> <td>1.176e+04</td>\n",
       "</tr>\n",
       "<tr>\n",
       "  <th>Date:</th>             <td>Fri, 15 Feb 2019</td> <th>  Prob (F-statistic):</th> <td>1.79e-216</td>\n",
       "</tr>\n",
       "<tr>\n",
       "  <th>Time:</th>                 <td>13:14:00</td>     <th>  Log-Likelihood:    </th> <td>  227.51</td> \n",
       "</tr>\n",
       "<tr>\n",
       "  <th>No. Observations:</th>      <td>   184</td>      <th>  AIC:               </th> <td>  -447.0</td> \n",
       "</tr>\n",
       "<tr>\n",
       "  <th>Df Residuals:</th>          <td>   180</td>      <th>  BIC:               </th> <td>  -434.2</td> \n",
       "</tr>\n",
       "<tr>\n",
       "  <th>Df Model:</th>              <td>     4</td>      <th>                     </th>     <td> </td>    \n",
       "</tr>\n",
       "<tr>\n",
       "  <th>Covariance Type:</th>      <td>nonrobust</td>    <th>                     </th>     <td> </td>    \n",
       "</tr>\n",
       "</table>\n",
       "<table class=\"simpletable\">\n",
       "<tr>\n",
       "          <td></td>             <th>coef</th>     <th>std err</th>      <th>t</th>      <th>P>|t|</th>  <th>[0.025</th>    <th>0.975]</th>  \n",
       "</tr>\n",
       "<tr>\n",
       "  <th>Open</th>              <td>   -0.6858</td> <td>    0.048</td> <td>  -14.214</td> <td> 0.000</td> <td>   -0.781</td> <td>   -0.591</td>\n",
       "</tr>\n",
       "<tr>\n",
       "  <th>High</th>              <td>    0.9121</td> <td>    0.055</td> <td>   16.653</td> <td> 0.000</td> <td>    0.804</td> <td>    1.020</td>\n",
       "</tr>\n",
       "<tr>\n",
       "  <th>Low</th>               <td>    0.7672</td> <td>    0.044</td> <td>   17.613</td> <td> 0.000</td> <td>    0.681</td> <td>    0.853</td>\n",
       "</tr>\n",
       "<tr>\n",
       "  <th>Turnover (Rs. Cr)</th> <td>    0.0117</td> <td>    0.006</td> <td>    1.807</td> <td> 0.072</td> <td>   -0.001</td> <td>    0.024</td>\n",
       "</tr>\n",
       "</table>\n",
       "<table class=\"simpletable\">\n",
       "<tr>\n",
       "  <th>Omnibus:</th>       <td> 7.027</td> <th>  Durbin-Watson:     </th> <td>   2.145</td>\n",
       "</tr>\n",
       "<tr>\n",
       "  <th>Prob(Omnibus):</th> <td> 0.030</td> <th>  Jarque-Bera (JB):  </th> <td>  11.331</td>\n",
       "</tr>\n",
       "<tr>\n",
       "  <th>Skew:</th>          <td> 0.119</td> <th>  Prob(JB):          </th> <td> 0.00346</td>\n",
       "</tr>\n",
       "<tr>\n",
       "  <th>Kurtosis:</th>      <td> 4.192</td> <th>  Cond. No.          </th> <td>    25.4</td>\n",
       "</tr>\n",
       "</table><br/><br/>Warnings:<br/>[1] Standard Errors assume that the covariance matrix of the errors is correctly specified."
      ],
      "text/plain": [
       "<class 'statsmodels.iolib.summary.Summary'>\n",
       "\"\"\"\n",
       "                            OLS Regression Results                            \n",
       "==============================================================================\n",
       "Dep. Variable:                  Close   R-squared:                       0.996\n",
       "Model:                            OLS   Adj. R-squared:                  0.996\n",
       "Method:                 Least Squares   F-statistic:                 1.176e+04\n",
       "Date:                Fri, 15 Feb 2019   Prob (F-statistic):          1.79e-216\n",
       "Time:                        13:14:00   Log-Likelihood:                 227.51\n",
       "No. Observations:                 184   AIC:                            -447.0\n",
       "Df Residuals:                     180   BIC:                            -434.2\n",
       "Df Model:                           4                                         \n",
       "Covariance Type:            nonrobust                                         \n",
       "=====================================================================================\n",
       "                        coef    std err          t      P>|t|      [0.025      0.975]\n",
       "-------------------------------------------------------------------------------------\n",
       "Open                 -0.6858      0.048    -14.214      0.000      -0.781      -0.591\n",
       "High                  0.9121      0.055     16.653      0.000       0.804       1.020\n",
       "Low                   0.7672      0.044     17.613      0.000       0.681       0.853\n",
       "Turnover (Rs. Cr)     0.0117      0.006      1.807      0.072      -0.001       0.024\n",
       "==============================================================================\n",
       "Omnibus:                        7.027   Durbin-Watson:                   2.145\n",
       "Prob(Omnibus):                  0.030   Jarque-Bera (JB):               11.331\n",
       "Skew:                           0.119   Prob(JB):                      0.00346\n",
       "Kurtosis:                       4.192   Cond. No.                         25.4\n",
       "==============================================================================\n",
       "\n",
       "Warnings:\n",
       "[1] Standard Errors assume that the covariance matrix of the errors is correctly specified.\n",
       "\"\"\""
      ]
     },
     "execution_count": 27,
     "metadata": {},
     "output_type": "execute_result"
    }
   ],
   "source": [
    "X=pd.DataFrame(train_data, columns = [\"Open\", \"High\", \"Low\", \"Turnover (Rs. Cr)\"])\n",
    "y=pd.DataFrame(train_data, columns =[\"Close\"])\n",
    "model3 = sm.OLS(y, X).fit()\n",
    "model3.summary()"
   ]
  },
  {
   "cell_type": "markdown",
   "metadata": {},
   "source": [
    "After including Turnover in this model the p-value of turnover is higher than the p-value of Shares Traded in the previous model (model2). Thus, we shall not include Turnover (Rs. Cr) in predictors. However, the p-value of shares traded in model2 is greater than 0 thus we shall examine if R-squared and Adj R-squared values of a model without Turnover (Rs. Cr) and Shares Traded is greater than corrsponding values (0.996) of model2. "
   ]
  },
  {
   "cell_type": "code",
   "execution_count": 28,
   "metadata": {},
   "outputs": [
    {
     "data": {
      "text/html": [
       "<table class=\"simpletable\">\n",
       "<caption>OLS Regression Results</caption>\n",
       "<tr>\n",
       "  <th>Dep. Variable:</th>          <td>Close</td>      <th>  R-squared:         </th> <td>   0.996</td> \n",
       "</tr>\n",
       "<tr>\n",
       "  <th>Model:</th>                   <td>OLS</td>       <th>  Adj. R-squared:    </th> <td>   0.996</td> \n",
       "</tr>\n",
       "<tr>\n",
       "  <th>Method:</th>             <td>Least Squares</td>  <th>  F-statistic:       </th> <td>1.549e+04</td>\n",
       "</tr>\n",
       "<tr>\n",
       "  <th>Date:</th>             <td>Fri, 15 Feb 2019</td> <th>  Prob (F-statistic):</th> <td>6.68e-218</td>\n",
       "</tr>\n",
       "<tr>\n",
       "  <th>Time:</th>                 <td>13:14:01</td>     <th>  Log-Likelihood:    </th> <td>  225.85</td> \n",
       "</tr>\n",
       "<tr>\n",
       "  <th>No. Observations:</th>      <td>   184</td>      <th>  AIC:               </th> <td>  -445.7</td> \n",
       "</tr>\n",
       "<tr>\n",
       "  <th>Df Residuals:</th>          <td>   181</td>      <th>  BIC:               </th> <td>  -436.1</td> \n",
       "</tr>\n",
       "<tr>\n",
       "  <th>Df Model:</th>              <td>     3</td>      <th>                     </th>     <td> </td>    \n",
       "</tr>\n",
       "<tr>\n",
       "  <th>Covariance Type:</th>      <td>nonrobust</td>    <th>                     </th>     <td> </td>    \n",
       "</tr>\n",
       "</table>\n",
       "<table class=\"simpletable\">\n",
       "<tr>\n",
       "    <td></td>      <th>coef</th>     <th>std err</th>      <th>t</th>      <th>P>|t|</th>  <th>[0.025</th>    <th>0.975]</th>  \n",
       "</tr>\n",
       "<tr>\n",
       "  <th>Open</th> <td>   -0.6836</td> <td>    0.049</td> <td>  -14.084</td> <td> 0.000</td> <td>   -0.779</td> <td>   -0.588</td>\n",
       "</tr>\n",
       "<tr>\n",
       "  <th>High</th> <td>    0.9548</td> <td>    0.050</td> <td>   19.201</td> <td> 0.000</td> <td>    0.857</td> <td>    1.053</td>\n",
       "</tr>\n",
       "<tr>\n",
       "  <th>Low</th>  <td>    0.7235</td> <td>    0.036</td> <td>   19.856</td> <td> 0.000</td> <td>    0.652</td> <td>    0.795</td>\n",
       "</tr>\n",
       "</table>\n",
       "<table class=\"simpletable\">\n",
       "<tr>\n",
       "  <th>Omnibus:</th>       <td> 8.668</td> <th>  Durbin-Watson:     </th> <td>   2.094</td>\n",
       "</tr>\n",
       "<tr>\n",
       "  <th>Prob(Omnibus):</th> <td> 0.013</td> <th>  Jarque-Bera (JB):  </th> <td>  16.075</td>\n",
       "</tr>\n",
       "<tr>\n",
       "  <th>Skew:</th>          <td> 0.125</td> <th>  Prob(JB):          </th> <td>0.000323</td>\n",
       "</tr>\n",
       "<tr>\n",
       "  <th>Kurtosis:</th>      <td> 4.426</td> <th>  Cond. No.          </th> <td>    24.1</td>\n",
       "</tr>\n",
       "</table><br/><br/>Warnings:<br/>[1] Standard Errors assume that the covariance matrix of the errors is correctly specified."
      ],
      "text/plain": [
       "<class 'statsmodels.iolib.summary.Summary'>\n",
       "\"\"\"\n",
       "                            OLS Regression Results                            \n",
       "==============================================================================\n",
       "Dep. Variable:                  Close   R-squared:                       0.996\n",
       "Model:                            OLS   Adj. R-squared:                  0.996\n",
       "Method:                 Least Squares   F-statistic:                 1.549e+04\n",
       "Date:                Fri, 15 Feb 2019   Prob (F-statistic):          6.68e-218\n",
       "Time:                        13:14:01   Log-Likelihood:                 225.85\n",
       "No. Observations:                 184   AIC:                            -445.7\n",
       "Df Residuals:                     181   BIC:                            -436.1\n",
       "Df Model:                           3                                         \n",
       "Covariance Type:            nonrobust                                         \n",
       "==============================================================================\n",
       "                 coef    std err          t      P>|t|      [0.025      0.975]\n",
       "------------------------------------------------------------------------------\n",
       "Open          -0.6836      0.049    -14.084      0.000      -0.779      -0.588\n",
       "High           0.9548      0.050     19.201      0.000       0.857       1.053\n",
       "Low            0.7235      0.036     19.856      0.000       0.652       0.795\n",
       "==============================================================================\n",
       "Omnibus:                        8.668   Durbin-Watson:                   2.094\n",
       "Prob(Omnibus):                  0.013   Jarque-Bera (JB):               16.075\n",
       "Skew:                           0.125   Prob(JB):                     0.000323\n",
       "Kurtosis:                       4.426   Cond. No.                         24.1\n",
       "==============================================================================\n",
       "\n",
       "Warnings:\n",
       "[1] Standard Errors assume that the covariance matrix of the errors is correctly specified.\n",
       "\"\"\""
      ]
     },
     "execution_count": 28,
     "metadata": {},
     "output_type": "execute_result"
    }
   ],
   "source": [
    "X=pd.DataFrame(train_data, columns = [\"Open\", \"High\", \"Low\"])\n",
    "y=pd.DataFrame(train_data, columns =[\"Close\"])\n",
    "model4 = sm.OLS(y, X).fit()\n",
    "model4.summary()"
   ]
  },
  {
   "cell_type": "markdown",
   "metadata": {},
   "source": [
    "We see, that there is no improvement in the R-squared & Adj R-Squared if we remove both the variables (Shares Traded & Turnover (Rs. Cr)). The p-value of Shares Traded in model2 is low which suggests that Shares Traded has very less dependency on other three predictors (Open, Low, High). Thus, keeping in mind all the above observations in the summary I believe we should provisinally proceed ahead with model2.\n",
    "However, we should consider few other metrics such as calculating MAE as well.\n",
    "Hence, for a final check we will now predict Close values in test data and calculate MAE for all the four models."
   ]
  },
  {
   "cell_type": "code",
   "execution_count": 29,
   "metadata": {},
   "outputs": [],
   "source": [
    "####test train split for original data.\n",
    "train_data_original=nifty50_data[0:184]\n",
    "test_data_original=nifty50_data[184:]\n",
    "\n",
    "predictors_original = [\"Open\", \"High\", \"Low\", \"Shares Traded\", \"Turnover (Rs. Cr)\"]\n",
    "target_original = [\"Close\"]\n",
    "\n",
    "train_X_original  = train_data_original[predictors_original]\n",
    "train_y_original  = train_data_original[target_original]\n",
    "test_X_original  = test_data_original[predictors_original]\n",
    "test_y_original  = test_data_original[target_original]"
   ]
  },
  {
   "cell_type": "code",
   "execution_count": 30,
   "metadata": {},
   "outputs": [
    {
     "name": "stdout",
     "output_type": "stream",
     "text": [
      "MAE for model1: 7510149.0802826295\n"
     ]
    }
   ],
   "source": [
    "#Running predictions on original data\n",
    "predictions1_original  = model1.predict(test_X_original)\n",
    "mae1_original =mean_absolute_error(test_y_original, predictions1_original)\n",
    "print(\"MAE for model1: %s\"%(str(mae1_original)))"
   ]
  },
  {
   "cell_type": "code",
   "execution_count": 31,
   "metadata": {},
   "outputs": [
    {
     "name": "stdout",
     "output_type": "stream",
     "text": [
      "MAE for model2: 5144577.307894821\n"
     ]
    }
   ],
   "source": [
    "predictions2_original  = model2.predict(test_X_original[[\"Open\", \"High\", \"Low\", \"Shares Traded\"]])\n",
    "mae2_original =mean_absolute_error(test_y_original, predictions2_original)\n",
    "print(\"MAE for model2: %s\"%(str(mae2_original)))"
   ]
  },
  {
   "cell_type": "code",
   "execution_count": 32,
   "metadata": {},
   "outputs": [
    {
     "name": "stdout",
     "output_type": "stream",
     "text": [
      "MAE for model3: 113.02743294750167\n"
     ]
    }
   ],
   "source": [
    "predictions3_original  = model3.predict(test_X_original[[\"Open\", \"High\", \"Low\", \"Turnover (Rs. Cr)\"]])\n",
    "mae3_original =mean_absolute_error(test_y_original, predictions3_original)\n",
    "print(\"MAE for model3: %s\"%(str(mae3_original)))"
   ]
  },
  {
   "cell_type": "code",
   "execution_count": 33,
   "metadata": {},
   "outputs": [
    {
     "name": "stdout",
     "output_type": "stream",
     "text": [
      "MAE for model4: 56.91757497240357\n"
     ]
    }
   ],
   "source": [
    "predictions4_original  = model4.predict(test_X_original[[\"Open\", \"High\", \"Low\"]])\n",
    "mae4_original =mean_absolute_error(test_y_original, predictions4_original)\n",
    "print(\"MAE for model4: %s\"%(str(mae4_original)))"
   ]
  },
  {
   "cell_type": "markdown",
   "metadata": {},
   "source": [
    "On the contrary to the previous observations where model2 seemed as a promising one to be chosen; here we see that model4 has the least MAE followed by model3. This can make us conclude to select model4 as the benchmark model. However, before we finalize our benchmark model to be model4 let us crosscheck how accurate these predictions are by plotting the original values of Close variable against the predicted ones in all the model."
   ]
  },
  {
   "cell_type": "code",
   "execution_count": 34,
   "metadata": {},
   "outputs": [
    {
     "data": {
      "image/png": "[encoded data removed]",
      "text/plain": [
       "<Figure size 432x288 with 1 Axes>"
      ]
     },
     "metadata": {
      "needs_background": "light"
     },
     "output_type": "display_data"
    }
   ],
   "source": [
    "import numpy as np\n",
    "import pylab as plb\n",
    "\n",
    "X = [i for i in range(len(test_y_original))]\n",
    "\n",
    "plt.scatter(X,test_y_original,color='k')\n",
    "plt.scatter(X,predictions1_original,color='g')\n",
    "plt.scatter(X,predictions2_original,color='r')\n",
    "plt.title(\"Close with predictions of model1 & model2\")\n",
    "plt.show()"
   ]
  },
  {
   "cell_type": "markdown",
   "metadata": {},
   "source": [
    "In the above graph the black dots are original values of Close while green & red dots are predicted values of Close using model1 & model2 respectively. \n",
    "Here, we see that the green & red are significantly different than black. We do not see variation in black plot in this graph because the scales of red and green plots are many orders higher than black. This is also supported from high MAE of model1 & model2."
   ]
  },
  {
   "cell_type": "code",
   "execution_count": 35,
   "metadata": {},
   "outputs": [
    {
     "data": {
      "image/png": "[encoded data removed]",
      "text/plain": [
       "<Figure size 432x288 with 1 Axes>"
      ]
     },
     "metadata": {
      "needs_background": "light"
     },
     "output_type": "display_data"
    }
   ],
   "source": [
    "plt.scatter(X,test_y_original,color='k')\n",
    "plt.scatter(X,predictions1_original,color='g')\n",
    "plt.scatter(X,predictions2_original,color='r')\n",
    "plt.scatter(X,predictions3_original,color='b')\n",
    "plt.title(\"Close with predictions of model1,model2 & model3\")\n",
    "plt.show()"
   ]
  },
  {
   "cell_type": "markdown",
   "metadata": {},
   "source": [
    "In the above graph the black dots are original values of Close while green, red & blue dots are predicted values of Close using model1, model2 & model3 respectively. Here, we see that the green & red are significantly different than black while the blue almost overlaps the black clearly making it not visible. This is also supported from high MAE of model1 & model2 and relatively much lesser MAE model3."
   ]
  },
  {
   "cell_type": "code",
   "execution_count": 36,
   "metadata": {},
   "outputs": [
    {
     "data": {
      "image/png": "[encoded data removed]",
      "text/plain": [
       "<Figure size 432x288 with 1 Axes>"
      ]
     },
     "metadata": {
      "needs_background": "light"
     },
     "output_type": "display_data"
    }
   ],
   "source": [
    "plt.scatter(X,test_y_original,color='k')\n",
    "plt.scatter(X,predictions1_original,color='g')\n",
    "plt.scatter(X,predictions2_original,color='r')\n",
    "plt.scatter(X,predictions3_original,color='b')\n",
    "plt.scatter(X,predictions4_original,color='y')\n",
    "plt.title(\"Close with predictions of model1,model2,model3 & model4\")\n",
    "plt.show()"
   ]
  },
  {
   "cell_type": "markdown",
   "metadata": {},
   "source": [
    "In the above graph we have plot original values of Close with predicted values of Close from all models.\n",
    "The green & red dots represent Close predicted values from model1 & model2. While yellow dost are predicted values of Close using model4 which overlaps the blue dots that are predicted values from model3 and also overlaps the original Close values plotted.\n",
    "Now, since blue dots & yellow docts are so close to the original value let us plot predicted values from model3 & model4 and original Close values for a final assurance of the model we select."
   ]
  },
  {
   "cell_type": "code",
   "execution_count": 37,
   "metadata": {},
   "outputs": [
    {
     "data": {
      "image/png": "[encoded data removed]",
      "text/plain": [
       "<Figure size 432x288 with 1 Axes>"
      ]
     },
     "metadata": {
      "needs_background": "light"
     },
     "output_type": "display_data"
    }
   ],
   "source": [
    "plt.scatter(X,predictions3_original,color='b')\n",
    "plt.scatter(X,predictions4_original,color='y')\n",
    "plt.title(\"Scatter plot of model3 & model4 predictions\")\n",
    "plt.show()"
   ]
  },
  {
   "cell_type": "markdown",
   "metadata": {},
   "source": [
    "Here, we see that the yellow dots which are predicted values of Close using model4 is vertically lower offset than blue (predicted Close values using model3) which means it is more closer to original Close values. Hence, we can easily chose model4 over model3 and all other models."
   ]
  },
  {
   "cell_type": "markdown",
   "metadata": {},
   "source": [
    "After revisiting all our above analysis that includes model summary, calculating MAE & scatter plot we finally conclude **model4** as the benchmark model. Below mentioned pointers are few factors to support our concluding results:\n",
    "1. Model4 has all the variables with p-value=0.00, which means that there exists no collinearity between variables.\n",
    "2. R-squared & Adj. R-squared for model4 is not lesser than that for all other three models.\n",
    "3. BIC for model4 is the least.\n",
    "4. MAE for model4 is least and significantly lesser."
   ]
  },
  {
   "cell_type": "markdown",
   "metadata": {},
   "source": [
    "Now let us check if the three chosen variables i.e Open, Low & High constitute the principal components of our dataset. \n",
    "For the same, let us use the fundamentals of Principal Component Analysis on our dataet. "
   ]
  },
  {
   "cell_type": "markdown",
   "metadata": {},
   "source": [
    "**Using PCA to find fundamental components of the dataset**"
   ]
  },
  {
   "cell_type": "code",
   "execution_count": 38,
   "metadata": {},
   "outputs": [],
   "source": [
    "from sklearn.decomposition import PCA"
   ]
  },
  {
   "cell_type": "code",
   "execution_count": 39,
   "metadata": {},
   "outputs": [],
   "source": [
    "def pca_results(scaled_df, pca):\n",
    "    '''\n",
    "    reate a DataFrame of the PCA results\n",
    "    Includes dimension feature weights and explained variance\n",
    "    Visualizes the PCA results\n",
    "    '''\n",
    "\n",
    "    # Dimension indexing\n",
    "    dimensions = dimensions = ['Dimension {}'.format(i) for i in range(1,len(pca.components_)+1)]\n",
    "\n",
    "    # PCA components\n",
    "    components = pd.DataFrame(np.round(pca.components_, 4), columns = list(scaled_df.keys()))\n",
    "    components.index = dimensions\n",
    "\n",
    "    # PCA explained variance\n",
    "    ratios = pca.explained_variance_ratio_.reshape(len(pca.components_), 1)\n",
    "    variance_ratios = pd.DataFrame(np.round(ratios, 4), columns = ['Explained Variance'])\n",
    "    variance_ratios.index = dimensions\n",
    "\n",
    "    # Create a bar plot visualization\n",
    "    fig, ax = plt.subplots(figsize = (14,8))\n",
    "\n",
    "    # Plot the feature weights as a function of the components\n",
    "    components.plot(ax = ax, kind = 'bar');\n",
    "    ax.set_ylabel(\"Feature Weights\")\n",
    "    ax.set_xticklabels(dimensions, rotation=0)\n",
    "\n",
    "\n",
    "    # Display the explained variance ratios\n",
    "    for i, ev in enumerate(pca.explained_variance_ratio_):\n",
    "        ax.text(i-0.40, ax.get_ylim()[1] + 0.05, \"Explained Variance\\n          %.4f\"%(ev))\n",
    "\n",
    "    # Return a concatenated DataFrame\n",
    "    return pd.concat([variance_ratios, components], axis = 1)"
   ]
  },
  {
   "cell_type": "code",
   "execution_count": 40,
   "metadata": {},
   "outputs": [
    {
     "data": {
      "text/plain": [
       "PCA(copy=True, iterated_power='auto', n_components=5, random_state=None,\n",
       "  svd_solver='auto', tol=0.0, whiten=False)"
      ]
     },
     "execution_count": 40,
     "metadata": {},
     "output_type": "execute_result"
    }
   ],
   "source": [
    "pca = PCA(n_components = 5)\n",
    "pca.fit(scaled_df)"
   ]
  },
  {
   "cell_type": "code",
   "execution_count": 41,
   "metadata": {},
   "outputs": [
    {
     "name": "stdout",
     "output_type": "stream",
     "text": [
      "             Explained Variance    Open    High     Low   Close  \\\n",
      "Dimension 1              0.6636  0.4983  0.5002  0.4985  0.4984   \n",
      "Dimension 2              0.3188 -0.0193 -0.0019 -0.0545 -0.0244   \n",
      "Dimension 3              0.0128  0.0008  0.0182 -0.0651 -0.0455   \n",
      "Dimension 4              0.0034  0.7150  0.1068 -0.1426 -0.6746   \n",
      "Dimension 5              0.0012 -0.0719  0.6358 -0.7431  0.1853   \n",
      "\n",
      "             Shares Traded  Turnover (Rs. Cr)  \n",
      "Dimension 1         0.0032             0.0678  \n",
      "Dimension 2         0.7091             0.7023  \n",
      "Dimension 3        -0.7046             0.7049  \n",
      "Dimension 4         0.0227            -0.0376  \n",
      "Dimension 5         0.0107            -0.0623  \n"
     ]
    },
    {
     "data": {
      "image/png": "[encoded data removed]",
      "text/plain": [
       "<Figure size 1008x576 with 1 Axes>"
      ]
     },
     "metadata": {
      "needs_background": "light"
     },
     "output_type": "display_data"
    }
   ],
   "source": [
    "# Generate PCA results plot\n",
    "pca_results_1 = pca_results(scaled_df, pca)\n",
    "\n",
    "print(pca_results_1)"
   ]
  },
  {
   "cell_type": "markdown",
   "metadata": {},
   "source": [
    "In the above graph & table we see that the first component explains the most variance in the dataset i.e (66.36%). Also, this component includes all the variables which we chose in the final model of our linear regression model i.e Open, High & Low."
   ]
  },
  {
   "cell_type": "code",
   "execution_count": 42,
   "metadata": {},
   "outputs": [
    {
     "name": "stdout",
     "output_type": "stream",
     "text": [
      "             Explained Variance    Open     Low    High\n",
      "Dimension 1              0.9937  0.5776  0.5768  0.5777\n",
      "Dimension 2              0.0040  0.4521 -0.8152  0.3621\n",
      "Dimension 3              0.0022 -0.6798 -0.0520  0.7316\n"
     ]
    },
    {
     "data": {
      "image/png": "[encoded data removed]",
      "text/plain": [
       "<Figure size 1008x576 with 1 Axes>"
      ]
     },
     "metadata": {
      "needs_background": "light"
     },
     "output_type": "display_data"
    }
   ],
   "source": [
    "pca = PCA(n_components = 3)\n",
    "scaled_df_reduced = scaled_df[[\"Open\", \"Low\", \"High\"]]\n",
    "pca.fit(scaled_df_reduced)\n",
    "pca_results_reduced = pca_results(scaled_df_reduced, pca)\n",
    "print(pca_results_reduced)\n"
   ]
  },
  {
   "cell_type": "markdown",
   "metadata": {},
   "source": [
    "As we learn from the linear regression that Open, High & Low are the most important predictors that leads to the least MAE & least BIC, we observed the graph above that Open, Low & High explains data almost completely. We also see that these three independent predcitors are equally important as the 1st principal component. \n",
    "\n",
    "We will now use more computations and work towards better accuracy of the model. For that we will use deep learning."
   ]
  },
  {
   "cell_type": "markdown",
   "metadata": {},
   "source": [
    "**Deep Learning Predictions follow**"
   ]
  },
  {
   "cell_type": "markdown",
   "metadata": {},
   "source": [
    "From Deep Learning we will actually predict the normalised Close price 3 months in advance. Since, its a time series data we will use LSTM which is a special case of recurrent Neural Networks.\n",
    "\n",
    "We first create a model with normalized dataset\n",
    "\n",
    "**deep_model1**"
   ]
  },
  {
   "cell_type": "code",
   "execution_count": 100,
   "metadata": {},
   "outputs": [],
   "source": [
    "%matplotlib inline\n",
    "import numpy as np\n",
    "import matplotlib.pyplot as plt"
   ]
  },
  {
   "cell_type": "code",
   "execution_count": 44,
   "metadata": {},
   "outputs": [
    {
     "name": "stdout",
     "output_type": "stream",
     "text": [
      "0    0.585395\n",
      "1    0.438134\n",
      "2    0.384096\n",
      "3    0.287397\n",
      "4    0.275015\n",
      "Name: 3, dtype: float64\n"
     ]
    }
   ],
   "source": [
    "#Normalizing the dataset & extracting out normalized Close price as original series\n",
    "from sklearn import preprocessing \n",
    "numeric_columns = [\"Open\", \"High\", \"Low\", \"Close\", \"Shares Traded\", \"Turnover (Rs. Cr)\"]\n",
    "nifty50_data_numeric = nifty50_data[numeric_columns]\n",
    "x= nifty50_data_numeric.values\n",
    "min_max_scaler = preprocessing.MinMaxScaler()\n",
    "x_scaled = min_max_scaler.fit_transform(x)\n",
    "nifty50_close_normalized = pd.DataFrame(x_scaled)[3]\n",
    "nifty50_close_normalized.reset_index(drop=True, inplace=True)\n",
    "print(nifty50_close_normalized.head())"
   ]
  },
  {
   "cell_type": "markdown",
   "metadata": {},
   "source": [
    "Let us examine the normalized Close data"
   ]
  },
  {
   "cell_type": "code",
   "execution_count": 113,
   "metadata": {},
   "outputs": [
    {
     "data": {
      "text/plain": [
       "Text(0.5, 1.0, '')"
      ]
     },
     "execution_count": 113,
     "metadata": {},
     "output_type": "execute_result"
    },
    {
     "data": {
      "image/png": "[encoded data removed]",
      "text/plain": [
       "<Figure size 432x288 with 1 Axes>"
      ]
     },
     "metadata": {
      "needs_background": "light"
     },
     "output_type": "display_data"
    }
   ],
   "source": [
    "plt.plot(nifty50_close_normalized)\n",
    "plt.xlabel('Time Period')\n",
    "plt.ylabel('Normalized Close Value')\n",
    "plt.title('')"
   ]
  },
  {
   "cell_type": "markdown",
   "metadata": {},
   "source": [
    "Since we need to use the normalized Close as the original series where data at time p depends on the dataat any interval previous to p. Therefore, we create a window of 5 data points (p-5, p-4, p-3, p-2, p-1) to predict data at p, this window keeps sliding ahead by 1 time stamp, hence creating training predictors from the window and training target at the value at p."
   ]
  },
  {
   "cell_type": "code",
   "execution_count": 46,
   "metadata": {},
   "outputs": [],
   "source": [
    "def create_training_window(original_series,window_size):\n",
    "    X = []\n",
    "    y = []    \n",
    "    for i in range(window_size, len(original_series)):\n",
    "        X.append(original_series[i - window_size:i])\n",
    "        y.append(original_series[i])       \n",
    "    X = np.asarray(X)\n",
    "    X.shape = (np.shape(X)[0:2])\n",
    "    y = np.asarray(y)\n",
    "    y.shape = (len(y),1)\n",
    "    return(X,y)"
   ]
  },
  {
   "cell_type": "code",
   "execution_count": 47,
   "metadata": {},
   "outputs": [],
   "source": [
    "window_size = 5\n",
    "X,y = create_training_window(original_series = nifty50_close_normalized,window_size = window_size)"
   ]
  },
  {
   "cell_type": "markdown",
   "metadata": {},
   "source": [
    "From the original data we will use the dat from February to October as training data and November to January as the time period where we want to predict the normalized closing price. In the original data the first 183 points correspond to period February to October which is our training window and points starting from index corresponds to period November to January which is our test window."
   ]
  },
  {
   "cell_type": "code",
   "execution_count": 48,
   "metadata": {},
   "outputs": [],
   "source": [
    "pivot = 184\n",
    "X_train = X[:pivot,:]\n",
    "y_train = y[:pivot]\n",
    "X_test = X[pivot:,:]\n",
    "y_test = y[pivot:]\n",
    "# reshaping to be used with LSTM in Keras\n",
    "X_train = np.asarray(np.reshape(X_train, (X_train.shape[0], window_size, 1)))\n",
    "X_test = np.asarray(np.reshape(X_test, (X_test.shape[0], window_size, 1)))"
   ]
  },
  {
   "cell_type": "code",
   "execution_count": 50,
   "metadata": {},
   "outputs": [
    {
     "name": "stderr",
     "output_type": "stream",
     "text": [
      "Using TensorFlow backend.\n"
     ]
    },
    {
     "name": "stdout",
     "output_type": "stream",
     "text": [
      "WARNING:tensorflow:From /home/harshvardhan/.local/lib/python3.7/site-packages/tensorflow/python/framework/op_def_library.py:263: colocate_with (from tensorflow.python.framework.ops) is deprecated and will be removed in a future version.\n",
      "Instructions for updating:\n",
      "Colocations handled automatically by placer.\n",
      "WARNING:tensorflow:From /home/harshvardhan/.local/lib/python3.7/site-packages/tensorflow/python/ops/math_ops.py:3066: to_int32 (from tensorflow.python.ops.math_ops) is deprecated and will be removed in a future version.\n",
      "Instructions for updating:\n",
      "Use tf.cast instead.\n",
      "Epoch 1/500\n",
      "184/184 [==============================] - 1s 3ms/step - loss: 0.1140\n",
      "Epoch 2/500\n",
      "184/184 [==============================] - 0s 167us/step - loss: 0.0894\n",
      "Epoch 3/500\n",
      "184/184 [==============================] - 0s 210us/step - loss: 0.0729\n",
      "Epoch 4/500\n",
      "184/184 [==============================] - 0s 188us/step - loss: 0.0595\n",
      "Epoch 5/500\n",
      "184/184 [==============================] - 0s 219us/step - loss: 0.0486\n",
      "Epoch 6/500\n",
      "184/184 [==============================] - 0s 207us/step - loss: 0.0395\n",
      "Epoch 7/500\n",
      "184/184 [==============================] - 0s 186us/step - loss: 0.0322\n",
      "Epoch 8/500\n",
      "184/184 [==============================] - 0s 225us/step - loss: 0.0267\n",
      "Epoch 9/500\n",
      "184/184 [==============================] - 0s 185us/step - loss: 0.0229\n",
      "Epoch 10/500\n",
      "184/184 [==============================] - 0s 289us/step - loss: 0.0202\n",
      "Epoch 11/500\n",
      "184/184 [==============================] - 0s 189us/step - loss: 0.0184\n",
      "Epoch 12/500\n",
      "184/184 [==============================] - 0s 199us/step - loss: 0.0170\n",
      "Epoch 13/500\n",
      "184/184 [==============================] - 0s 191us/step - loss: 0.0159\n",
      "Epoch 14/500\n",
      "184/184 [==============================] - 0s 182us/step - loss: 0.0147\n",
      "Epoch 15/500\n",
      "184/184 [==============================] - 0s 229us/step - loss: 0.0135\n",
      "Epoch 16/500\n",
      "184/184 [==============================] - 0s 161us/step - loss: 0.0125\n",
      "Epoch 17/500\n",
      "184/184 [==============================] - 0s 244us/step - loss: 0.0115\n",
      "Epoch 18/500\n",
      "184/184 [==============================] - 0s 215us/step - loss: 0.0106\n",
      "Epoch 19/500\n",
      "184/184 [==============================] - 0s 209us/step - loss: 0.0097\n",
      "Epoch 20/500\n",
      "184/184 [==============================] - 0s 175us/step - loss: 0.0090\n",
      "Epoch 21/500\n",
      "184/184 [==============================] - 0s 192us/step - loss: 0.0082\n",
      "Epoch 22/500\n",
      "184/184 [==============================] - 0s 198us/step - loss: 0.0076\n",
      "Epoch 23/500\n",
      "184/184 [==============================] - 0s 176us/step - loss: 0.0070\n",
      "Epoch 24/500\n",
      "184/184 [==============================] - 0s 233us/step - loss: 0.0066\n",
      "Epoch 25/500\n",
      "184/184 [==============================] - 0s 200us/step - loss: 0.0062\n",
      "Epoch 26/500\n",
      "184/184 [==============================] - 0s 223us/step - loss: 0.0060\n",
      "Epoch 27/500\n",
      "184/184 [==============================] - 0s 185us/step - loss: 0.0056\n",
      "Epoch 28/500\n",
      "184/184 [==============================] - 0s 214us/step - loss: 0.0055\n",
      "Epoch 29/500\n",
      "184/184 [==============================] - 0s 199us/step - loss: 0.0053\n",
      "Epoch 30/500\n",
      "184/184 [==============================] - 0s 178us/step - loss: 0.0053\n",
      "Epoch 31/500\n",
      "184/184 [==============================] - 0s 179us/step - loss: 0.0052\n",
      "Epoch 32/500\n",
      "184/184 [==============================] - 0s 189us/step - loss: 0.0051\n",
      "Epoch 33/500\n",
      "184/184 [==============================] - 0s 217us/step - loss: 0.0051\n",
      "Epoch 34/500\n",
      "184/184 [==============================] - 0s 218us/step - loss: 0.0050\n",
      "Epoch 35/500\n",
      "184/184 [==============================] - 0s 167us/step - loss: 0.0051\n",
      "Epoch 36/500\n",
      "184/184 [==============================] - 0s 206us/step - loss: 0.0050\n",
      "Epoch 37/500\n",
      "184/184 [==============================] - 0s 179us/step - loss: 0.0049\n",
      "Epoch 38/500\n",
      "184/184 [==============================] - 0s 189us/step - loss: 0.0050\n",
      "Epoch 39/500\n",
      "184/184 [==============================] - 0s 186us/step - loss: 0.0049\n",
      "Epoch 40/500\n",
      "184/184 [==============================] - 0s 182us/step - loss: 0.0050\n",
      "Epoch 41/500\n",
      "184/184 [==============================] - 0s 179us/step - loss: 0.0048\n",
      "Epoch 42/500\n",
      "184/184 [==============================] - 0s 180us/step - loss: 0.0048\n",
      "Epoch 43/500\n",
      "184/184 [==============================] - 0s 192us/step - loss: 0.0048\n",
      "Epoch 44/500\n",
      "184/184 [==============================] - 0s 179us/step - loss: 0.0050\n",
      "Epoch 45/500\n",
      "184/184 [==============================] - 0s 182us/step - loss: 0.0049\n",
      "Epoch 46/500\n",
      "184/184 [==============================] - 0s 182us/step - loss: 0.0048\n",
      "Epoch 47/500\n",
      "184/184 [==============================] - 0s 190us/step - loss: 0.0048\n",
      "Epoch 48/500\n",
      "184/184 [==============================] - 0s 201us/step - loss: 0.0047\n",
      "Epoch 49/500\n",
      "184/184 [==============================] - 0s 226us/step - loss: 0.0048\n",
      "Epoch 50/500\n",
      "184/184 [==============================] - 0s 202us/step - loss: 0.0048\n",
      "Epoch 51/500\n",
      "184/184 [==============================] - 0s 212us/step - loss: 0.0047\n",
      "Epoch 52/500\n",
      "184/184 [==============================] - 0s 188us/step - loss: 0.0048\n",
      "Epoch 53/500\n",
      "184/184 [==============================] - 0s 200us/step - loss: 0.0047\n",
      "Epoch 54/500\n",
      "184/184 [==============================] - 0s 225us/step - loss: 0.0047\n",
      "Epoch 55/500\n",
      "184/184 [==============================] - 0s 193us/step - loss: 0.0047\n",
      "Epoch 56/500\n",
      "184/184 [==============================] - 0s 189us/step - loss: 0.0046\n",
      "Epoch 57/500\n",
      "184/184 [==============================] - 0s 238us/step - loss: 0.0047\n",
      "Epoch 58/500\n",
      "184/184 [==============================] - 0s 168us/step - loss: 0.0046\n",
      "Epoch 59/500\n",
      "184/184 [==============================] - 0s 207us/step - loss: 0.0046\n",
      "Epoch 60/500\n",
      "184/184 [==============================] - 0s 213us/step - loss: 0.0046\n",
      "Epoch 61/500\n",
      "184/184 [==============================] - 0s 188us/step - loss: 0.0045\n",
      "Epoch 62/500\n",
      "184/184 [==============================] - 0s 168us/step - loss: 0.0045\n",
      "Epoch 63/500\n",
      "184/184 [==============================] - 0s 183us/step - loss: 0.0046\n",
      "Epoch 64/500\n",
      "184/184 [==============================] - 0s 215us/step - loss: 0.0045\n",
      "Epoch 65/500\n",
      "184/184 [==============================] - 0s 202us/step - loss: 0.0045\n",
      "Epoch 66/500\n",
      "184/184 [==============================] - 0s 185us/step - loss: 0.0045\n",
      "Epoch 67/500\n",
      "184/184 [==============================] - 0s 205us/step - loss: 0.0044\n",
      "Epoch 68/500\n",
      "184/184 [==============================] - 0s 184us/step - loss: 0.0044\n",
      "Epoch 69/500\n",
      "184/184 [==============================] - 0s 198us/step - loss: 0.0044\n",
      "Epoch 70/500\n",
      "184/184 [==============================] - 0s 218us/step - loss: 0.0044\n",
      "Epoch 71/500\n",
      "184/184 [==============================] - 0s 201us/step - loss: 0.0044\n",
      "Epoch 72/500\n",
      "184/184 [==============================] - 0s 211us/step - loss: 0.0045\n",
      "Epoch 73/500\n",
      "184/184 [==============================] - 0s 193us/step - loss: 0.0043\n",
      "Epoch 74/500\n",
      "184/184 [==============================] - 0s 228us/step - loss: 0.0043\n",
      "Epoch 75/500\n",
      "184/184 [==============================] - 0s 222us/step - loss: 0.0043\n",
      "Epoch 76/500\n",
      "184/184 [==============================] - 0s 174us/step - loss: 0.0043\n",
      "Epoch 77/500\n",
      "184/184 [==============================] - 0s 190us/step - loss: 0.0043\n",
      "Epoch 78/500\n",
      "184/184 [==============================] - 0s 186us/step - loss: 0.0043\n",
      "Epoch 79/500\n",
      "184/184 [==============================] - 0s 191us/step - loss: 0.0042\n",
      "Epoch 80/500\n",
      "184/184 [==============================] - 0s 217us/step - loss: 0.0043\n",
      "Epoch 81/500\n",
      "184/184 [==============================] - 0s 196us/step - loss: 0.0042\n",
      "Epoch 82/500\n",
      "184/184 [==============================] - 0s 178us/step - loss: 0.0042\n",
      "Epoch 83/500\n",
      "184/184 [==============================] - 0s 177us/step - loss: 0.0042\n",
      "Epoch 84/500\n",
      "184/184 [==============================] - 0s 174us/step - loss: 0.0042\n",
      "Epoch 85/500\n",
      "184/184 [==============================] - 0s 177us/step - loss: 0.0042\n",
      "Epoch 86/500\n",
      "184/184 [==============================] - 0s 193us/step - loss: 0.0042\n",
      "Epoch 87/500\n",
      "184/184 [==============================] - 0s 183us/step - loss: 0.0042\n",
      "Epoch 88/500\n",
      "184/184 [==============================] - 0s 174us/step - loss: 0.0042\n",
      "Epoch 89/500\n",
      "184/184 [==============================] - 0s 166us/step - loss: 0.0041\n",
      "Epoch 90/500\n",
      "184/184 [==============================] - 0s 182us/step - loss: 0.0042\n",
      "Epoch 91/500\n",
      "184/184 [==============================] - 0s 182us/step - loss: 0.0041\n",
      "Epoch 92/500\n",
      "184/184 [==============================] - 0s 169us/step - loss: 0.0041\n",
      "Epoch 93/500\n",
      "184/184 [==============================] - 0s 200us/step - loss: 0.0041\n",
      "Epoch 94/500\n",
      "184/184 [==============================] - 0s 205us/step - loss: 0.0041\n",
      "Epoch 95/500\n",
      "184/184 [==============================] - 0s 180us/step - loss: 0.0040\n",
      "Epoch 96/500\n",
      "184/184 [==============================] - 0s 196us/step - loss: 0.0041\n",
      "Epoch 97/500\n",
      "184/184 [==============================] - 0s 201us/step - loss: 0.0041\n",
      "Epoch 98/500\n",
      "184/184 [==============================] - 0s 235us/step - loss: 0.0040\n",
      "Epoch 99/500\n",
      "184/184 [==============================] - 0s 244us/step - loss: 0.0041\n",
      "Epoch 100/500\n",
      "184/184 [==============================] - 0s 205us/step - loss: 0.0039\n",
      "Epoch 101/500\n",
      "184/184 [==============================] - 0s 192us/step - loss: 0.0040\n",
      "Epoch 102/500\n",
      "184/184 [==============================] - 0s 183us/step - loss: 0.0040\n",
      "Epoch 103/500\n",
      "184/184 [==============================] - 0s 183us/step - loss: 0.0039\n",
      "Epoch 104/500\n",
      "184/184 [==============================] - 0s 192us/step - loss: 0.0039\n",
      "Epoch 105/500\n",
      "184/184 [==============================] - 0s 200us/step - loss: 0.0039\n",
      "Epoch 106/500\n",
      "184/184 [==============================] - 0s 212us/step - loss: 0.0039\n",
      "Epoch 107/500\n",
      "184/184 [==============================] - 0s 214us/step - loss: 0.0038\n",
      "Epoch 108/500\n",
      "184/184 [==============================] - 0s 176us/step - loss: 0.0038\n",
      "Epoch 109/500\n",
      "184/184 [==============================] - 0s 168us/step - loss: 0.0038\n",
      "Epoch 110/500\n",
      "184/184 [==============================] - 0s 157us/step - loss: 0.0038\n",
      "Epoch 111/500\n",
      "184/184 [==============================] - 0s 181us/step - loss: 0.0038\n",
      "Epoch 112/500\n",
      "184/184 [==============================] - 0s 175us/step - loss: 0.0038\n",
      "Epoch 113/500\n",
      "184/184 [==============================] - 0s 195us/step - loss: 0.0038\n",
      "Epoch 114/500\n",
      "184/184 [==============================] - 0s 185us/step - loss: 0.0037\n",
      "Epoch 115/500\n",
      "184/184 [==============================] - 0s 175us/step - loss: 0.0037\n",
      "Epoch 116/500\n",
      "184/184 [==============================] - 0s 178us/step - loss: 0.0037\n",
      "Epoch 117/500\n",
      "184/184 [==============================] - 0s 169us/step - loss: 0.0037\n",
      "Epoch 118/500\n",
      "184/184 [==============================] - 0s 180us/step - loss: 0.0037\n",
      "Epoch 119/500\n",
      "184/184 [==============================] - 0s 178us/step - loss: 0.0037\n",
      "Epoch 120/500\n",
      "184/184 [==============================] - 0s 169us/step - loss: 0.0037\n",
      "Epoch 121/500\n",
      "184/184 [==============================] - 0s 176us/step - loss: 0.0036\n",
      "Epoch 122/500\n",
      "184/184 [==============================] - 0s 182us/step - loss: 0.0036\n",
      "Epoch 123/500\n",
      "184/184 [==============================] - 0s 179us/step - loss: 0.0037\n",
      "Epoch 124/500\n",
      "184/184 [==============================] - 0s 225us/step - loss: 0.0036\n",
      "Epoch 125/500\n",
      "184/184 [==============================] - 0s 221us/step - loss: 0.0036\n",
      "Epoch 126/500\n",
      "184/184 [==============================] - 0s 185us/step - loss: 0.0036\n",
      "Epoch 127/500\n",
      "184/184 [==============================] - 0s 165us/step - loss: 0.0036\n",
      "Epoch 128/500\n",
      "184/184 [==============================] - 0s 167us/step - loss: 0.0035\n",
      "Epoch 129/500\n",
      "184/184 [==============================] - 0s 159us/step - loss: 0.0035\n",
      "Epoch 130/500\n",
      "184/184 [==============================] - 0s 169us/step - loss: 0.0035\n",
      "Epoch 131/500\n",
      "184/184 [==============================] - 0s 180us/step - loss: 0.0035\n",
      "Epoch 132/500\n",
      "184/184 [==============================] - 0s 161us/step - loss: 0.0034\n",
      "Epoch 133/500\n",
      "184/184 [==============================] - 0s 170us/step - loss: 0.0035\n",
      "Epoch 134/500\n",
      "184/184 [==============================] - 0s 174us/step - loss: 0.0035\n",
      "Epoch 135/500\n",
      "184/184 [==============================] - 0s 170us/step - loss: 0.0035\n",
      "Epoch 136/500\n",
      "184/184 [==============================] - 0s 182us/step - loss: 0.0035\n",
      "Epoch 137/500\n",
      "184/184 [==============================] - 0s 188us/step - loss: 0.0034\n",
      "Epoch 138/500\n",
      "184/184 [==============================] - 0s 173us/step - loss: 0.0034\n",
      "Epoch 139/500\n",
      "184/184 [==============================] - 0s 173us/step - loss: 0.0034\n",
      "Epoch 140/500\n",
      "184/184 [==============================] - 0s 203us/step - loss: 0.0033\n",
      "Epoch 141/500\n",
      "184/184 [==============================] - 0s 160us/step - loss: 0.0033\n",
      "Epoch 142/500\n",
      "184/184 [==============================] - 0s 178us/step - loss: 0.0033\n",
      "Epoch 143/500\n",
      "184/184 [==============================] - 0s 182us/step - loss: 0.0033\n",
      "Epoch 144/500\n",
      "184/184 [==============================] - 0s 192us/step - loss: 0.0033\n",
      "Epoch 145/500\n",
      "184/184 [==============================] - 0s 182us/step - loss: 0.0033\n",
      "Epoch 146/500\n",
      "184/184 [==============================] - 0s 162us/step - loss: 0.0033\n",
      "Epoch 147/500\n",
      "184/184 [==============================] - 0s 172us/step - loss: 0.0033\n",
      "Epoch 148/500\n",
      "184/184 [==============================] - 0s 204us/step - loss: 0.0032\n",
      "Epoch 149/500\n",
      "184/184 [==============================] - 0s 181us/step - loss: 0.0033\n",
      "Epoch 150/500\n",
      "184/184 [==============================] - 0s 184us/step - loss: 0.0032\n",
      "Epoch 151/500\n",
      "184/184 [==============================] - 0s 172us/step - loss: 0.0032\n",
      "Epoch 152/500\n",
      "184/184 [==============================] - 0s 189us/step - loss: 0.0032\n",
      "Epoch 153/500\n",
      "184/184 [==============================] - 0s 180us/step - loss: 0.0032\n",
      "Epoch 154/500\n",
      "184/184 [==============================] - 0s 168us/step - loss: 0.0032\n",
      "Epoch 155/500\n",
      "184/184 [==============================] - 0s 205us/step - loss: 0.0032\n",
      "Epoch 156/500\n",
      "184/184 [==============================] - 0s 184us/step - loss: 0.0031\n",
      "Epoch 157/500\n",
      "184/184 [==============================] - 0s 175us/step - loss: 0.0031\n",
      "Epoch 158/500\n",
      "184/184 [==============================] - 0s 167us/step - loss: 0.0032\n",
      "Epoch 159/500\n",
      "184/184 [==============================] - 0s 184us/step - loss: 0.0031\n",
      "Epoch 160/500\n",
      "184/184 [==============================] - 0s 180us/step - loss: 0.0031\n",
      "Epoch 161/500\n",
      "184/184 [==============================] - 0s 179us/step - loss: 0.0031\n",
      "Epoch 162/500\n",
      "184/184 [==============================] - 0s 212us/step - loss: 0.0031\n",
      "Epoch 163/500\n",
      "184/184 [==============================] - 0s 155us/step - loss: 0.0030\n",
      "Epoch 164/500\n",
      "184/184 [==============================] - 0s 253us/step - loss: 0.0031\n",
      "Epoch 165/500\n",
      "184/184 [==============================] - 0s 167us/step - loss: 0.0030\n",
      "Epoch 166/500\n",
      "184/184 [==============================] - 0s 190us/step - loss: 0.0030\n",
      "Epoch 167/500\n",
      "184/184 [==============================] - 0s 183us/step - loss: 0.0030\n",
      "Epoch 168/500\n",
      "184/184 [==============================] - 0s 228us/step - loss: 0.0030\n",
      "Epoch 169/500\n",
      "184/184 [==============================] - 0s 212us/step - loss: 0.0030\n",
      "Epoch 170/500\n",
      "184/184 [==============================] - 0s 178us/step - loss: 0.0029\n",
      "Epoch 171/500\n",
      "184/184 [==============================] - 0s 155us/step - loss: 0.0030\n",
      "Epoch 172/500\n",
      "184/184 [==============================] - 0s 162us/step - loss: 0.0030\n",
      "Epoch 173/500\n",
      "184/184 [==============================] - 0s 178us/step - loss: 0.0030\n",
      "Epoch 174/500\n",
      "184/184 [==============================] - 0s 174us/step - loss: 0.0029\n",
      "Epoch 175/500\n",
      "184/184 [==============================] - 0s 170us/step - loss: 0.0030\n",
      "Epoch 176/500\n",
      "184/184 [==============================] - 0s 162us/step - loss: 0.0029\n",
      "Epoch 177/500\n",
      "184/184 [==============================] - 0s 173us/step - loss: 0.0029\n",
      "Epoch 178/500\n",
      "184/184 [==============================] - 0s 157us/step - loss: 0.0029\n",
      "Epoch 179/500\n",
      "184/184 [==============================] - 0s 176us/step - loss: 0.0029\n",
      "Epoch 180/500\n",
      "184/184 [==============================] - 0s 169us/step - loss: 0.0029\n",
      "Epoch 181/500\n",
      "184/184 [==============================] - 0s 175us/step - loss: 0.0028\n",
      "Epoch 182/500\n",
      "184/184 [==============================] - 0s 193us/step - loss: 0.0029\n",
      "Epoch 183/500\n",
      "184/184 [==============================] - 0s 175us/step - loss: 0.0029\n",
      "Epoch 184/500\n",
      "184/184 [==============================] - 0s 178us/step - loss: 0.0028\n",
      "Epoch 185/500\n",
      "184/184 [==============================] - 0s 171us/step - loss: 0.0028\n",
      "Epoch 186/500\n",
      "184/184 [==============================] - 0s 166us/step - loss: 0.0028\n",
      "Epoch 187/500\n",
      "184/184 [==============================] - 0s 172us/step - loss: 0.0028\n",
      "Epoch 188/500\n",
      "184/184 [==============================] - 0s 199us/step - loss: 0.0028\n",
      "Epoch 189/500\n",
      "184/184 [==============================] - 0s 199us/step - loss: 0.0028\n",
      "Epoch 190/500\n",
      "184/184 [==============================] - 0s 188us/step - loss: 0.0028\n",
      "Epoch 191/500\n",
      "184/184 [==============================] - 0s 161us/step - loss: 0.0028\n",
      "Epoch 192/500\n",
      "184/184 [==============================] - 0s 209us/step - loss: 0.0027\n",
      "Epoch 193/500\n",
      "184/184 [==============================] - 0s 180us/step - loss: 0.0027\n",
      "Epoch 194/500\n",
      "184/184 [==============================] - 0s 191us/step - loss: 0.0027\n",
      "Epoch 195/500\n",
      "184/184 [==============================] - 0s 183us/step - loss: 0.0028\n",
      "Epoch 196/500\n",
      "184/184 [==============================] - 0s 189us/step - loss: 0.0027\n",
      "Epoch 197/500\n",
      "184/184 [==============================] - 0s 168us/step - loss: 0.0027\n",
      "Epoch 198/500\n",
      "184/184 [==============================] - 0s 168us/step - loss: 0.0027\n",
      "Epoch 199/500\n",
      "184/184 [==============================] - 0s 161us/step - loss: 0.0027\n",
      "Epoch 200/500\n",
      "184/184 [==============================] - 0s 155us/step - loss: 0.0027\n",
      "Epoch 201/500\n",
      "184/184 [==============================] - 0s 161us/step - loss: 0.0027\n",
      "Epoch 202/500\n",
      "184/184 [==============================] - 0s 150us/step - loss: 0.0027\n",
      "Epoch 203/500\n",
      "184/184 [==============================] - 0s 190us/step - loss: 0.0028\n",
      "Epoch 204/500\n",
      "184/184 [==============================] - 0s 160us/step - loss: 0.0027\n",
      "Epoch 205/500\n",
      "184/184 [==============================] - 0s 183us/step - loss: 0.0026\n",
      "Epoch 206/500\n",
      "184/184 [==============================] - 0s 184us/step - loss: 0.0027\n",
      "Epoch 207/500\n",
      "184/184 [==============================] - 0s 179us/step - loss: 0.0026\n",
      "Epoch 208/500\n",
      "184/184 [==============================] - 0s 172us/step - loss: 0.0026\n",
      "Epoch 209/500\n",
      "184/184 [==============================] - 0s 166us/step - loss: 0.0026\n",
      "Epoch 210/500\n",
      "184/184 [==============================] - 0s 195us/step - loss: 0.0027\n",
      "Epoch 211/500\n",
      "184/184 [==============================] - 0s 184us/step - loss: 0.0027\n",
      "Epoch 212/500\n",
      "184/184 [==============================] - 0s 147us/step - loss: 0.0027\n",
      "Epoch 213/500\n",
      "184/184 [==============================] - 0s 189us/step - loss: 0.0026\n",
      "Epoch 214/500\n",
      "184/184 [==============================] - 0s 179us/step - loss: 0.0026\n",
      "Epoch 215/500\n",
      "184/184 [==============================] - 0s 224us/step - loss: 0.0026\n",
      "Epoch 216/500\n",
      "184/184 [==============================] - 0s 261us/step - loss: 0.0027\n",
      "Epoch 217/500\n",
      "184/184 [==============================] - 0s 186us/step - loss: 0.0026\n",
      "Epoch 218/500\n",
      "184/184 [==============================] - 0s 159us/step - loss: 0.0026\n",
      "Epoch 219/500\n",
      "184/184 [==============================] - 0s 182us/step - loss: 0.0026\n",
      "Epoch 220/500\n",
      "184/184 [==============================] - 0s 163us/step - loss: 0.0026\n",
      "Epoch 221/500\n",
      "184/184 [==============================] - 0s 163us/step - loss: 0.0027\n",
      "Epoch 222/500\n",
      "184/184 [==============================] - 0s 167us/step - loss: 0.0025\n",
      "Epoch 223/500\n",
      "184/184 [==============================] - 0s 153us/step - loss: 0.0026\n",
      "Epoch 224/500\n",
      "184/184 [==============================] - 0s 173us/step - loss: 0.0026\n",
      "Epoch 225/500\n",
      "184/184 [==============================] - 0s 155us/step - loss: 0.0026\n",
      "Epoch 226/500\n",
      "184/184 [==============================] - 0s 152us/step - loss: 0.0025\n",
      "Epoch 227/500\n",
      "184/184 [==============================] - 0s 158us/step - loss: 0.0026\n",
      "Epoch 228/500\n",
      "184/184 [==============================] - 0s 153us/step - loss: 0.0025\n",
      "Epoch 229/500\n",
      "184/184 [==============================] - 0s 181us/step - loss: 0.0026\n",
      "Epoch 230/500\n",
      "184/184 [==============================] - 0s 159us/step - loss: 0.0025\n",
      "Epoch 231/500\n",
      "184/184 [==============================] - 0s 156us/step - loss: 0.0026\n",
      "Epoch 232/500\n",
      "184/184 [==============================] - 0s 176us/step - loss: 0.0025\n",
      "Epoch 233/500\n",
      "184/184 [==============================] - 0s 172us/step - loss: 0.0026\n",
      "Epoch 234/500\n",
      "184/184 [==============================] - 0s 165us/step - loss: 0.0026\n",
      "Epoch 235/500\n",
      "184/184 [==============================] - 0s 154us/step - loss: 0.0025\n",
      "Epoch 236/500\n",
      "184/184 [==============================] - 0s 155us/step - loss: 0.0025\n",
      "Epoch 237/500\n",
      "184/184 [==============================] - 0s 152us/step - loss: 0.0025\n",
      "Epoch 238/500\n",
      "184/184 [==============================] - 0s 168us/step - loss: 0.0025\n",
      "Epoch 239/500\n",
      "184/184 [==============================] - 0s 159us/step - loss: 0.0025\n",
      "Epoch 240/500\n",
      "184/184 [==============================] - 0s 164us/step - loss: 0.0025\n",
      "Epoch 241/500\n",
      "184/184 [==============================] - 0s 151us/step - loss: 0.0025\n",
      "Epoch 242/500\n",
      "184/184 [==============================] - 0s 155us/step - loss: 0.0025\n",
      "Epoch 243/500\n",
      "184/184 [==============================] - 0s 150us/step - loss: 0.0026\n",
      "Epoch 244/500\n",
      "184/184 [==============================] - 0s 166us/step - loss: 0.0025\n",
      "Epoch 245/500\n",
      "184/184 [==============================] - 0s 140us/step - loss: 0.0025\n",
      "Epoch 246/500\n",
      "184/184 [==============================] - 0s 157us/step - loss: 0.0026\n",
      "Epoch 247/500\n",
      "184/184 [==============================] - 0s 154us/step - loss: 0.0025\n",
      "Epoch 248/500\n",
      "184/184 [==============================] - 0s 158us/step - loss: 0.0024\n",
      "Epoch 249/500\n",
      "184/184 [==============================] - 0s 155us/step - loss: 0.0025\n",
      "Epoch 250/500\n",
      "184/184 [==============================] - 0s 163us/step - loss: 0.0025\n",
      "Epoch 251/500\n",
      "184/184 [==============================] - 0s 169us/step - loss: 0.0025\n",
      "Epoch 252/500\n",
      "184/184 [==============================] - 0s 153us/step - loss: 0.0025\n",
      "Epoch 253/500\n",
      "184/184 [==============================] - 0s 149us/step - loss: 0.0025\n",
      "Epoch 254/500\n",
      "184/184 [==============================] - 0s 162us/step - loss: 0.0025\n",
      "Epoch 255/500\n",
      "184/184 [==============================] - 0s 169us/step - loss: 0.0025\n",
      "Epoch 256/500\n",
      "184/184 [==============================] - 0s 233us/step - loss: 0.0025\n",
      "Epoch 257/500\n",
      "184/184 [==============================] - 0s 153us/step - loss: 0.0024\n",
      "Epoch 258/500\n",
      "184/184 [==============================] - 0s 162us/step - loss: 0.0025\n",
      "Epoch 259/500\n",
      "184/184 [==============================] - 0s 172us/step - loss: 0.0024\n",
      "Epoch 260/500\n",
      "184/184 [==============================] - 0s 163us/step - loss: 0.0025\n",
      "Epoch 261/500\n",
      "184/184 [==============================] - 0s 153us/step - loss: 0.0025\n",
      "Epoch 262/500\n",
      "184/184 [==============================] - 0s 180us/step - loss: 0.0025\n",
      "Epoch 263/500\n",
      "184/184 [==============================] - 0s 181us/step - loss: 0.0024\n",
      "Epoch 264/500\n",
      "184/184 [==============================] - 0s 147us/step - loss: 0.0024\n",
      "Epoch 265/500\n",
      "184/184 [==============================] - 0s 153us/step - loss: 0.0026\n",
      "Epoch 266/500\n",
      "184/184 [==============================] - 0s 157us/step - loss: 0.0025\n",
      "Epoch 267/500\n",
      "184/184 [==============================] - 0s 160us/step - loss: 0.0025\n",
      "Epoch 268/500\n",
      "184/184 [==============================] - 0s 148us/step - loss: 0.0024\n",
      "Epoch 269/500\n",
      "184/184 [==============================] - 0s 158us/step - loss: 0.0026\n",
      "Epoch 270/500\n",
      "184/184 [==============================] - 0s 164us/step - loss: 0.0025\n",
      "Epoch 271/500\n",
      "184/184 [==============================] - 0s 157us/step - loss: 0.0025\n",
      "Epoch 272/500\n",
      "184/184 [==============================] - 0s 148us/step - loss: 0.0025\n",
      "Epoch 273/500\n",
      "184/184 [==============================] - 0s 163us/step - loss: 0.0024\n",
      "Epoch 274/500\n",
      "184/184 [==============================] - 0s 155us/step - loss: 0.0024\n",
      "Epoch 275/500\n",
      "184/184 [==============================] - 0s 178us/step - loss: 0.0025\n",
      "Epoch 276/500\n",
      "184/184 [==============================] - 0s 162us/step - loss: 0.0025\n",
      "Epoch 277/500\n",
      "184/184 [==============================] - 0s 161us/step - loss: 0.0024\n",
      "Epoch 278/500\n",
      "184/184 [==============================] - 0s 170us/step - loss: 0.0024\n",
      "Epoch 279/500\n",
      "184/184 [==============================] - 0s 162us/step - loss: 0.0025\n",
      "Epoch 280/500\n",
      "184/184 [==============================] - 0s 157us/step - loss: 0.0025\n",
      "Epoch 281/500\n",
      "184/184 [==============================] - 0s 168us/step - loss: 0.0024\n",
      "Epoch 282/500\n",
      "184/184 [==============================] - 0s 162us/step - loss: 0.0024\n",
      "Epoch 283/500\n",
      "184/184 [==============================] - 0s 159us/step - loss: 0.0024\n",
      "Epoch 284/500\n",
      "184/184 [==============================] - 0s 162us/step - loss: 0.0024\n",
      "Epoch 285/500\n",
      "184/184 [==============================] - 0s 158us/step - loss: 0.0025\n",
      "Epoch 286/500\n",
      "184/184 [==============================] - 0s 161us/step - loss: 0.0024\n",
      "Epoch 287/500\n",
      "184/184 [==============================] - 0s 162us/step - loss: 0.0025\n",
      "Epoch 288/500\n",
      "184/184 [==============================] - 0s 165us/step - loss: 0.0024\n",
      "Epoch 289/500\n",
      "184/184 [==============================] - 0s 161us/step - loss: 0.0024\n",
      "Epoch 290/500\n",
      "184/184 [==============================] - 0s 152us/step - loss: 0.0025\n",
      "Epoch 291/500\n",
      "184/184 [==============================] - 0s 147us/step - loss: 0.0024\n",
      "Epoch 292/500\n",
      "184/184 [==============================] - 0s 163us/step - loss: 0.0024\n",
      "Epoch 293/500\n",
      "184/184 [==============================] - 0s 145us/step - loss: 0.0024\n",
      "Epoch 294/500\n",
      "184/184 [==============================] - 0s 145us/step - loss: 0.0025\n",
      "Epoch 295/500\n",
      "184/184 [==============================] - 0s 166us/step - loss: 0.0024\n",
      "Epoch 296/500\n",
      "184/184 [==============================] - 0s 157us/step - loss: 0.0024\n",
      "Epoch 297/500\n",
      "184/184 [==============================] - 0s 153us/step - loss: 0.0025\n",
      "Epoch 298/500\n",
      "184/184 [==============================] - 0s 156us/step - loss: 0.0024\n",
      "Epoch 299/500\n",
      "184/184 [==============================] - 0s 168us/step - loss: 0.0024\n",
      "Epoch 300/500\n",
      "184/184 [==============================] - 0s 154us/step - loss: 0.0025\n",
      "Epoch 301/500\n",
      "184/184 [==============================] - 0s 167us/step - loss: 0.0024\n",
      "Epoch 302/500\n",
      "184/184 [==============================] - 0s 168us/step - loss: 0.0024\n",
      "Epoch 303/500\n",
      "184/184 [==============================] - 0s 150us/step - loss: 0.0024\n",
      "Epoch 304/500\n",
      "184/184 [==============================] - 0s 164us/step - loss: 0.0024\n",
      "Epoch 305/500\n",
      "184/184 [==============================] - 0s 162us/step - loss: 0.0024\n",
      "Epoch 306/500\n",
      "184/184 [==============================] - 0s 165us/step - loss: 0.0025\n",
      "Epoch 307/500\n",
      "184/184 [==============================] - 0s 176us/step - loss: 0.0024\n",
      "Epoch 308/500\n",
      "184/184 [==============================] - 0s 149us/step - loss: 0.0024\n",
      "Epoch 309/500\n",
      "184/184 [==============================] - 0s 155us/step - loss: 0.0024\n",
      "Epoch 310/500\n",
      "184/184 [==============================] - 0s 161us/step - loss: 0.0024\n",
      "Epoch 311/500\n",
      "184/184 [==============================] - 0s 179us/step - loss: 0.0025\n",
      "Epoch 312/500\n",
      "184/184 [==============================] - 0s 155us/step - loss: 0.0024\n",
      "Epoch 313/500\n",
      "184/184 [==============================] - 0s 163us/step - loss: 0.0024\n",
      "Epoch 314/500\n",
      "184/184 [==============================] - 0s 165us/step - loss: 0.0024\n",
      "Epoch 315/500\n",
      "184/184 [==============================] - 0s 159us/step - loss: 0.0024\n",
      "Epoch 316/500\n",
      "184/184 [==============================] - 0s 164us/step - loss: 0.0024\n",
      "Epoch 317/500\n",
      "184/184 [==============================] - 0s 162us/step - loss: 0.0024\n",
      "Epoch 318/500\n",
      "184/184 [==============================] - 0s 162us/step - loss: 0.0025\n",
      "Epoch 319/500\n",
      "184/184 [==============================] - 0s 138us/step - loss: 0.0025\n",
      "Epoch 320/500\n",
      "184/184 [==============================] - 0s 160us/step - loss: 0.0024\n",
      "Epoch 321/500\n",
      "184/184 [==============================] - 0s 173us/step - loss: 0.0024\n",
      "Epoch 322/500\n",
      "184/184 [==============================] - 0s 168us/step - loss: 0.0024\n",
      "Epoch 323/500\n",
      "184/184 [==============================] - 0s 167us/step - loss: 0.0024\n",
      "Epoch 324/500\n",
      "184/184 [==============================] - 0s 155us/step - loss: 0.0024\n",
      "Epoch 325/500\n",
      "184/184 [==============================] - 0s 148us/step - loss: 0.0024\n",
      "Epoch 326/500\n",
      "184/184 [==============================] - 0s 147us/step - loss: 0.0024\n",
      "Epoch 327/500\n",
      "184/184 [==============================] - 0s 156us/step - loss: 0.0024\n",
      "Epoch 328/500\n",
      "184/184 [==============================] - 0s 176us/step - loss: 0.0024\n",
      "Epoch 329/500\n",
      "184/184 [==============================] - 0s 153us/step - loss: 0.0025\n",
      "Epoch 330/500\n",
      "184/184 [==============================] - 0s 144us/step - loss: 0.0024\n",
      "Epoch 331/500\n",
      "184/184 [==============================] - 0s 147us/step - loss: 0.0024\n",
      "Epoch 332/500\n",
      "184/184 [==============================] - 0s 167us/step - loss: 0.0024\n",
      "Epoch 333/500\n",
      "184/184 [==============================] - 0s 167us/step - loss: 0.0025\n",
      "Epoch 334/500\n",
      "184/184 [==============================] - 0s 169us/step - loss: 0.0025\n",
      "Epoch 335/500\n",
      "184/184 [==============================] - 0s 166us/step - loss: 0.0024\n",
      "Epoch 336/500\n",
      "184/184 [==============================] - 0s 140us/step - loss: 0.0024\n",
      "Epoch 337/500\n",
      "184/184 [==============================] - 0s 162us/step - loss: 0.0024\n",
      "Epoch 338/500\n",
      "184/184 [==============================] - 0s 155us/step - loss: 0.0024\n",
      "Epoch 339/500\n",
      "184/184 [==============================] - 0s 160us/step - loss: 0.0024\n",
      "Epoch 340/500\n",
      "184/184 [==============================] - 0s 170us/step - loss: 0.0024\n",
      "Epoch 341/500\n",
      "184/184 [==============================] - 0s 155us/step - loss: 0.0024\n",
      "Epoch 342/500\n",
      "184/184 [==============================] - 0s 155us/step - loss: 0.0025\n",
      "Epoch 343/500\n",
      "184/184 [==============================] - 0s 163us/step - loss: 0.0024\n",
      "Epoch 344/500\n",
      "184/184 [==============================] - 0s 168us/step - loss: 0.0024\n",
      "Epoch 345/500\n",
      "184/184 [==============================] - 0s 178us/step - loss: 0.0024\n",
      "Epoch 346/500\n",
      "184/184 [==============================] - 0s 156us/step - loss: 0.0024\n",
      "Epoch 347/500\n",
      "184/184 [==============================] - 0s 163us/step - loss: 0.0024\n",
      "Epoch 348/500\n",
      "184/184 [==============================] - 0s 168us/step - loss: 0.0025\n",
      "Epoch 349/500\n",
      "184/184 [==============================] - 0s 173us/step - loss: 0.0024\n",
      "Epoch 350/500\n",
      "184/184 [==============================] - 0s 172us/step - loss: 0.0024\n",
      "Epoch 351/500\n",
      "184/184 [==============================] - 0s 157us/step - loss: 0.0024\n",
      "Epoch 352/500\n",
      "184/184 [==============================] - 0s 177us/step - loss: 0.0024\n",
      "Epoch 353/500\n",
      "184/184 [==============================] - 0s 166us/step - loss: 0.0025\n",
      "Epoch 354/500\n",
      "184/184 [==============================] - 0s 155us/step - loss: 0.0024\n",
      "Epoch 355/500\n",
      "184/184 [==============================] - 0s 178us/step - loss: 0.0024\n",
      "Epoch 356/500\n",
      "184/184 [==============================] - 0s 162us/step - loss: 0.0024\n",
      "Epoch 357/500\n",
      "184/184 [==============================] - 0s 157us/step - loss: 0.0024\n",
      "Epoch 358/500\n",
      "184/184 [==============================] - 0s 173us/step - loss: 0.0025\n",
      "Epoch 359/500\n",
      "184/184 [==============================] - 0s 160us/step - loss: 0.0024\n",
      "Epoch 360/500\n",
      "184/184 [==============================] - 0s 179us/step - loss: 0.0024\n",
      "Epoch 361/500\n",
      "184/184 [==============================] - 0s 162us/step - loss: 0.0024\n",
      "Epoch 362/500\n",
      "184/184 [==============================] - 0s 155us/step - loss: 0.0024\n",
      "Epoch 363/500\n",
      "184/184 [==============================] - 0s 219us/step - loss: 0.0024\n",
      "Epoch 364/500\n",
      "184/184 [==============================] - 0s 160us/step - loss: 0.0024\n",
      "Epoch 365/500\n",
      "184/184 [==============================] - 0s 165us/step - loss: 0.0024\n",
      "Epoch 366/500\n",
      "184/184 [==============================] - 0s 191us/step - loss: 0.0024\n",
      "Epoch 367/500\n",
      "184/184 [==============================] - 0s 159us/step - loss: 0.0024\n",
      "Epoch 368/500\n",
      "184/184 [==============================] - 0s 171us/step - loss: 0.0025\n",
      "Epoch 369/500\n",
      "184/184 [==============================] - 0s 192us/step - loss: 0.0024\n",
      "Epoch 370/500\n",
      "184/184 [==============================] - 0s 172us/step - loss: 0.0024\n",
      "Epoch 371/500\n",
      "184/184 [==============================] - 0s 184us/step - loss: 0.0024\n",
      "Epoch 372/500\n",
      "184/184 [==============================] - 0s 214us/step - loss: 0.0024\n",
      "Epoch 373/500\n",
      "184/184 [==============================] - 0s 213us/step - loss: 0.0024\n",
      "Epoch 374/500\n",
      "184/184 [==============================] - 0s 307us/step - loss: 0.0024\n",
      "Epoch 375/500\n",
      "184/184 [==============================] - 0s 184us/step - loss: 0.0024\n",
      "Epoch 376/500\n",
      "184/184 [==============================] - 0s 179us/step - loss: 0.0024\n",
      "Epoch 377/500\n",
      "184/184 [==============================] - 0s 244us/step - loss: 0.0024\n",
      "Epoch 378/500\n",
      "184/184 [==============================] - 0s 178us/step - loss: 0.0024\n",
      "Epoch 379/500\n",
      "184/184 [==============================] - 0s 182us/step - loss: 0.0024\n",
      "Epoch 380/500\n",
      "184/184 [==============================] - 0s 204us/step - loss: 0.0024\n",
      "Epoch 381/500\n",
      "184/184 [==============================] - 0s 169us/step - loss: 0.0024\n",
      "Epoch 382/500\n",
      "184/184 [==============================] - 0s 163us/step - loss: 0.0024\n",
      "Epoch 383/500\n",
      "184/184 [==============================] - 0s 188us/step - loss: 0.0025\n",
      "Epoch 384/500\n",
      "184/184 [==============================] - 0s 161us/step - loss: 0.0024\n",
      "Epoch 385/500\n",
      "184/184 [==============================] - 0s 174us/step - loss: 0.0024\n",
      "Epoch 386/500\n",
      "184/184 [==============================] - 0s 191us/step - loss: 0.0024\n",
      "Epoch 387/500\n",
      "184/184 [==============================] - 0s 148us/step - loss: 0.0024\n",
      "Epoch 388/500\n",
      "184/184 [==============================] - 0s 169us/step - loss: 0.0024\n",
      "Epoch 389/500\n",
      "184/184 [==============================] - 0s 175us/step - loss: 0.0024\n",
      "Epoch 390/500\n",
      "184/184 [==============================] - 0s 147us/step - loss: 0.0024\n",
      "Epoch 391/500\n",
      "184/184 [==============================] - 0s 259us/step - loss: 0.0024\n",
      "Epoch 392/500\n",
      "184/184 [==============================] - 0s 172us/step - loss: 0.0024\n",
      "Epoch 393/500\n",
      "184/184 [==============================] - 0s 170us/step - loss: 0.0024\n",
      "Epoch 394/500\n",
      "184/184 [==============================] - 0s 207us/step - loss: 0.0024\n",
      "Epoch 395/500\n",
      "184/184 [==============================] - 0s 175us/step - loss: 0.0024\n",
      "Epoch 396/500\n",
      "184/184 [==============================] - 0s 158us/step - loss: 0.0024\n",
      "Epoch 397/500\n",
      "184/184 [==============================] - 0s 218us/step - loss: 0.0024\n",
      "Epoch 398/500\n",
      "184/184 [==============================] - 0s 213us/step - loss: 0.0024\n",
      "Epoch 399/500\n",
      "184/184 [==============================] - 0s 166us/step - loss: 0.0024\n",
      "Epoch 400/500\n",
      "184/184 [==============================] - 0s 142us/step - loss: 0.0024\n",
      "Epoch 401/500\n",
      "184/184 [==============================] - 0s 185us/step - loss: 0.0024\n",
      "Epoch 402/500\n",
      "184/184 [==============================] - 0s 174us/step - loss: 0.0024\n",
      "Epoch 403/500\n",
      "184/184 [==============================] - 0s 179us/step - loss: 0.0024\n",
      "Epoch 404/500\n",
      "184/184 [==============================] - 0s 198us/step - loss: 0.0024\n",
      "Epoch 405/500\n",
      "184/184 [==============================] - 0s 160us/step - loss: 0.0024\n",
      "Epoch 406/500\n",
      "184/184 [==============================] - 0s 155us/step - loss: 0.0023\n",
      "Epoch 407/500\n",
      "184/184 [==============================] - 0s 170us/step - loss: 0.0024\n",
      "Epoch 408/500\n",
      "184/184 [==============================] - 0s 153us/step - loss: 0.0023\n",
      "Epoch 409/500\n",
      "184/184 [==============================] - 0s 171us/step - loss: 0.0024\n",
      "Epoch 410/500\n",
      "184/184 [==============================] - 0s 192us/step - loss: 0.0024\n",
      "Epoch 411/500\n",
      "184/184 [==============================] - 0s 163us/step - loss: 0.0024\n",
      "Epoch 412/500\n",
      "184/184 [==============================] - 0s 160us/step - loss: 0.0024\n",
      "Epoch 413/500\n",
      "184/184 [==============================] - 0s 161us/step - loss: 0.0024\n",
      "Epoch 414/500\n",
      "184/184 [==============================] - 0s 158us/step - loss: 0.0024\n",
      "Epoch 415/500\n",
      "184/184 [==============================] - 0s 155us/step - loss: 0.0024\n",
      "Epoch 416/500\n",
      "184/184 [==============================] - 0s 187us/step - loss: 0.0024\n",
      "Epoch 417/500\n",
      "184/184 [==============================] - 0s 153us/step - loss: 0.0024\n",
      "Epoch 418/500\n",
      "184/184 [==============================] - 0s 158us/step - loss: 0.0024\n",
      "Epoch 419/500\n",
      "184/184 [==============================] - 0s 184us/step - loss: 0.0024\n",
      "Epoch 420/500\n",
      "184/184 [==============================] - 0s 152us/step - loss: 0.0024\n",
      "Epoch 421/500\n",
      "184/184 [==============================] - 0s 153us/step - loss: 0.0024\n",
      "Epoch 422/500\n",
      "184/184 [==============================] - 0s 183us/step - loss: 0.0024\n",
      "Epoch 423/500\n",
      "184/184 [==============================] - 0s 162us/step - loss: 0.0025\n",
      "Epoch 424/500\n",
      "184/184 [==============================] - 0s 150us/step - loss: 0.0024\n",
      "Epoch 425/500\n",
      "184/184 [==============================] - 0s 183us/step - loss: 0.0024\n",
      "Epoch 426/500\n",
      "184/184 [==============================] - 0s 169us/step - loss: 0.0024\n",
      "Epoch 427/500\n",
      "184/184 [==============================] - 0s 149us/step - loss: 0.0024\n",
      "Epoch 428/500\n",
      "184/184 [==============================] - 0s 234us/step - loss: 0.0024\n",
      "Epoch 429/500\n",
      "184/184 [==============================] - 0s 212us/step - loss: 0.0024\n",
      "Epoch 430/500\n",
      "184/184 [==============================] - 0s 159us/step - loss: 0.0024\n",
      "Epoch 431/500\n",
      "184/184 [==============================] - 0s 154us/step - loss: 0.0024\n",
      "Epoch 432/500\n",
      "184/184 [==============================] - 0s 216us/step - loss: 0.0024\n",
      "Epoch 433/500\n",
      "184/184 [==============================] - 0s 177us/step - loss: 0.0024\n",
      "Epoch 434/500\n",
      "184/184 [==============================] - 0s 142us/step - loss: 0.0024\n",
      "Epoch 435/500\n",
      "184/184 [==============================] - 0s 224us/step - loss: 0.0024\n",
      "Epoch 436/500\n",
      "184/184 [==============================] - 0s 171us/step - loss: 0.0023\n",
      "Epoch 437/500\n",
      "184/184 [==============================] - 0s 162us/step - loss: 0.0025\n",
      "Epoch 438/500\n",
      "184/184 [==============================] - 0s 159us/step - loss: 0.0024\n",
      "Epoch 439/500\n",
      "184/184 [==============================] - 0s 206us/step - loss: 0.0023\n",
      "Epoch 440/500\n",
      "184/184 [==============================] - 0s 166us/step - loss: 0.0024\n",
      "Epoch 441/500\n",
      "184/184 [==============================] - 0s 158us/step - loss: 0.0024\n",
      "Epoch 442/500\n",
      "184/184 [==============================] - 0s 178us/step - loss: 0.0024\n",
      "Epoch 443/500\n",
      "184/184 [==============================] - 0s 176us/step - loss: 0.0024\n",
      "Epoch 444/500\n",
      "184/184 [==============================] - 0s 162us/step - loss: 0.0024\n",
      "Epoch 445/500\n",
      "184/184 [==============================] - 0s 171us/step - loss: 0.0024\n",
      "Epoch 446/500\n",
      "184/184 [==============================] - 0s 211us/step - loss: 0.0024\n",
      "Epoch 447/500\n",
      "184/184 [==============================] - 0s 149us/step - loss: 0.0024\n",
      "Epoch 448/500\n",
      "184/184 [==============================] - 0s 154us/step - loss: 0.0023\n",
      "Epoch 449/500\n",
      "184/184 [==============================] - 0s 183us/step - loss: 0.0024\n",
      "Epoch 450/500\n",
      "184/184 [==============================] - 0s 174us/step - loss: 0.0024\n",
      "Epoch 451/500\n",
      "184/184 [==============================] - 0s 158us/step - loss: 0.0024\n",
      "Epoch 452/500\n",
      "184/184 [==============================] - 0s 165us/step - loss: 0.0024\n",
      "Epoch 453/500\n",
      "184/184 [==============================] - 0s 183us/step - loss: 0.0024\n",
      "Epoch 454/500\n",
      "184/184 [==============================] - 0s 152us/step - loss: 0.0024\n",
      "Epoch 455/500\n",
      "184/184 [==============================] - 0s 161us/step - loss: 0.0024\n",
      "Epoch 456/500\n",
      "184/184 [==============================] - 0s 169us/step - loss: 0.0024\n",
      "Epoch 457/500\n",
      "184/184 [==============================] - 0s 180us/step - loss: 0.0024\n",
      "Epoch 458/500\n",
      "184/184 [==============================] - 0s 154us/step - loss: 0.0024\n",
      "Epoch 459/500\n",
      "184/184 [==============================] - 0s 167us/step - loss: 0.0023\n",
      "Epoch 460/500\n",
      "184/184 [==============================] - 0s 196us/step - loss: 0.0024\n",
      "Epoch 461/500\n",
      "184/184 [==============================] - 0s 171us/step - loss: 0.0024\n",
      "Epoch 462/500\n",
      "184/184 [==============================] - 0s 169us/step - loss: 0.0024\n",
      "Epoch 463/500\n",
      "184/184 [==============================] - 0s 192us/step - loss: 0.0024\n",
      "Epoch 464/500\n",
      "184/184 [==============================] - 0s 190us/step - loss: 0.0024\n",
      "Epoch 465/500\n",
      "184/184 [==============================] - 0s 157us/step - loss: 0.0025\n",
      "Epoch 466/500\n",
      "184/184 [==============================] - 0s 190us/step - loss: 0.0023\n",
      "Epoch 467/500\n",
      "184/184 [==============================] - 0s 159us/step - loss: 0.0024\n",
      "Epoch 468/500\n",
      "184/184 [==============================] - 0s 151us/step - loss: 0.0024\n",
      "Epoch 469/500\n",
      "184/184 [==============================] - 0s 187us/step - loss: 0.0024\n",
      "Epoch 470/500\n",
      "184/184 [==============================] - 0s 169us/step - loss: 0.0024\n",
      "Epoch 471/500\n",
      "184/184 [==============================] - 0s 160us/step - loss: 0.0024\n",
      "Epoch 472/500\n",
      "184/184 [==============================] - 0s 156us/step - loss: 0.0024\n",
      "Epoch 473/500\n",
      "184/184 [==============================] - 0s 159us/step - loss: 0.0024\n",
      "Epoch 474/500\n",
      "184/184 [==============================] - 0s 188us/step - loss: 0.0024\n",
      "Epoch 475/500\n",
      "184/184 [==============================] - 0s 155us/step - loss: 0.0025\n",
      "Epoch 476/500\n",
      "184/184 [==============================] - 0s 146us/step - loss: 0.0024\n",
      "Epoch 477/500\n",
      "184/184 [==============================] - 0s 163us/step - loss: 0.0023\n",
      "Epoch 478/500\n",
      "184/184 [==============================] - 0s 163us/step - loss: 0.0024\n",
      "Epoch 479/500\n",
      "184/184 [==============================] - 0s 164us/step - loss: 0.0024\n",
      "Epoch 480/500\n",
      "184/184 [==============================] - 0s 152us/step - loss: 0.0024\n",
      "Epoch 481/500\n",
      "184/184 [==============================] - 0s 177us/step - loss: 0.0024\n",
      "Epoch 482/500\n",
      "184/184 [==============================] - 0s 162us/step - loss: 0.0024\n",
      "Epoch 483/500\n",
      "184/184 [==============================] - 0s 155us/step - loss: 0.0024\n",
      "Epoch 484/500\n",
      "184/184 [==============================] - 0s 178us/step - loss: 0.0023\n",
      "Epoch 485/500\n",
      "184/184 [==============================] - 0s 186us/step - loss: 0.0024\n",
      "Epoch 486/500\n",
      "184/184 [==============================] - 0s 158us/step - loss: 0.0024\n",
      "Epoch 487/500\n",
      "184/184 [==============================] - 0s 153us/step - loss: 0.0024\n",
      "Epoch 488/500\n",
      "184/184 [==============================] - 0s 225us/step - loss: 0.0023\n",
      "Epoch 489/500\n",
      "184/184 [==============================] - 0s 168us/step - loss: 0.0024\n",
      "Epoch 490/500\n",
      "184/184 [==============================] - 0s 162us/step - loss: 0.0024\n",
      "Epoch 491/500\n",
      "184/184 [==============================] - 0s 149us/step - loss: 0.0024\n",
      "Epoch 492/500\n",
      "184/184 [==============================] - 0s 192us/step - loss: 0.0024\n",
      "Epoch 493/500\n",
      "184/184 [==============================] - 0s 218us/step - loss: 0.0025\n",
      "Epoch 494/500\n",
      "184/184 [==============================] - 0s 146us/step - loss: 0.0023\n",
      "Epoch 495/500\n",
      "184/184 [==============================] - 0s 171us/step - loss: 0.0024\n",
      "Epoch 496/500\n",
      "184/184 [==============================] - 0s 172us/step - loss: 0.0024\n",
      "Epoch 497/500\n",
      "184/184 [==============================] - 0s 167us/step - loss: 0.0024\n",
      "Epoch 498/500\n",
      "184/184 [==============================] - 0s 162us/step - loss: 0.0024\n",
      "Epoch 499/500\n",
      "184/184 [==============================] - 0s 163us/step - loss: 0.0024\n",
      "Epoch 500/500\n",
      "184/184 [==============================] - 0s 178us/step - loss: 0.0024\n"
     ]
    },
    {
     "data": {
      "text/plain": [
       "<keras.callbacks.History at 0x7f111e5402e8>"
      ]
     },
     "execution_count": 50,
     "metadata": {},
     "output_type": "execute_result"
    }
   ],
   "source": [
    "from keras.models import Sequential\n",
    "from keras.layers import Dense\n",
    "from keras.layers import LSTM\n",
    "import keras\n",
    "\n",
    "np.random.seed(0)\n",
    "\n",
    "# defining the lstm model\n",
    "model = Sequential()\n",
    "model.add(LSTM(5, input_shape=(window_size, 1)))\n",
    "model.add(Dense(1))\n",
    "optimizer = keras.optimizers.RMSprop(lr=0.001, rho=0.9, epsilon=1e-08, decay=0.0)\n",
    "\n",
    "# compile the model\n",
    "model.compile(loss='mean_squared_error', optimizer=optimizer)\n",
    "\n",
    "# running the model on train data\n",
    "model.fit(X_train, y_train, epochs=500, batch_size=32, verbose=1)"
   ]
  },
  {
   "cell_type": "code",
   "execution_count": 51,
   "metadata": {},
   "outputs": [
    {
     "name": "stdout",
     "output_type": "stream",
     "text": [
      "training error = 0.0023758404321320677\n",
      "testing error = 0.0025014345261171974\n"
     ]
    }
   ],
   "source": [
    "# calculating predictions for training\n",
    "train_predict = model.predict(X_train)\n",
    "test_predict = model.predict(X_test)\n",
    "\n",
    "training_error = model.evaluate(X_train, y_train, verbose=0)\n",
    "print('training error = ' + str(training_error))\n",
    "\n",
    "testing_error = model.evaluate(X_test, y_test, verbose=0)\n",
    "print('testing error = ' + str(testing_error))"
   ]
  },
  {
   "cell_type": "code",
   "execution_count": 53,
   "metadata": {},
   "outputs": [
    {
     "data": {
      "image/png": "[encoded data removed]",
      "text/plain": [
       "<Figure size 432x288 with 1 Axes>"
      ]
     },
     "metadata": {
      "needs_background": "light"
     },
     "output_type": "display_data"
    }
   ],
   "source": [
    "#plotting the original series, testing fit and training fit\n",
    "\n",
    "import matplotlib.pyplot as plt\n",
    "%matplotlib inline\n",
    "\n",
    "# plot original series\n",
    "plt.plot(nifty50_close_normalized,color = 'k')\n",
    "\n",
    "# plot training set prediction\n",
    "split_pt = pivot + window_size \n",
    "plt.plot(np.arange(window_size,split_pt,1),train_predict,color = 'b')\n",
    "\n",
    "# plot testing set prediction\n",
    "plt.plot(np.arange(split_pt,split_pt + len(test_predict),1),test_predict,color = 'r')\n",
    "\n",
    "# pretty up graph\n",
    "plt.xlabel('day')\n",
    "plt.ylabel('Normalized closing price of Nifty50')\n",
    "plt.legend(['original series','training fit','testing fit'],loc='center left', bbox_to_anchor=(1, 0.5))\n",
    "plt.show()"
   ]
  },
  {
   "cell_type": "markdown",
   "metadata": {},
   "source": [
    "We see that the testing fit in red color fits very well with original series. Hence, the predictions made three months in advance are almost accuarte. The testing error is also as small as 0.25%. Let us now calculate the F1 score for this model."
   ]
  },
  {
   "cell_type": "code",
   "execution_count": 145,
   "metadata": {},
   "outputs": [
    {
     "name": "stdout",
     "output_type": "stream",
     "text": [
      "f1_score = 0.5588235294117646\n"
     ]
    }
   ],
   "source": [
    "original_deltas = []\n",
    "prediction_deltas = []\n",
    "original_test_window = np.asarray(nifty50_close_normalized[pivot:])\n",
    "prediction_window = []\n",
    "true_positives = 0\n",
    "false_positives = 0\n",
    "false_negatives = 0\n",
    "\n",
    "for i, close in enumerate(original_test_window):\n",
    "    if(i>0 and i<len(original_test_window)-1):\n",
    "        if(original_test_window[i+1] > close):\n",
    "            original_deltas.append(True)\n",
    "        else:\n",
    "            original_deltas.append(False)\n",
    "    \n",
    "for values in np.asarray(test_predict):\n",
    "    prediction_window.append(values[0])\n",
    "    \n",
    "for i, close in enumerate(prediction_window):\n",
    "    if(i>0 and i<len(prediction_window)-1):\n",
    "        if(prediction_window[i+1] > close):\n",
    "            prediction_deltas.append(True)\n",
    "        else:\n",
    "            prediction_deltas.append(False)\n",
    "    \n",
    "for od, pd in zip(prediction_deltas, original_deltas):\n",
    "    if(od == True and pd == True):\n",
    "        true_positives+=1\n",
    "    elif(od == False and pd == True):\n",
    "        false_positives+=1\n",
    "    elif(od == True and pd == False):\n",
    "        false_negatives+=1\n",
    "\n",
    "precision = true_positives/(true_positives+false_positives)\n",
    "recall = true_positives/(true_positives+false_negatives)\n",
    "\n",
    "f1_score = 2*(recall*precision)/(recall+precision)\n",
    "\n",
    "print(\"f1_score = %s\"%(f1_score))"
   ]
  },
  {
   "cell_type": "markdown",
   "metadata": {},
   "source": [
    "We see that the f1-score is 0.55 which is greater than 0.5. A f1-score greater than 0.5 suggests that the model is good in predicting, and this f1-score combined with a low error rate of 0.25% builds a well suited model to predict the closing price of Nifty50 three months in advance. "
   ]
  },
  {
   "cell_type": "markdown",
   "metadata": {},
   "source": [
    "Let us see if the predictions are any better if we use standardized data instead on normalized data.\n",
    "\n",
    "**deep_model2**"
   ]
  },
  {
   "cell_type": "code",
   "execution_count": 146,
   "metadata": {},
   "outputs": [
    {
     "name": "stdout",
     "output_type": "stream",
     "text": [
      "training error = 0.04570667348478152\n",
      "testing error = 0.05231296579385626\n"
     ]
    },
    {
     "data": {
      "image/png": "[encoded data removed]",
      "text/plain": [
       "<Figure size 432x288 with 1 Axes>"
      ]
     },
     "metadata": {
      "needs_background": "light"
     },
     "output_type": "display_data"
    }
   ],
   "source": [
    "nifty50_close_standardized = scaled_df[\"Close\"]\n",
    "\n",
    "plt.plot(nifty50_close_standardized)\n",
    "plt.xlabel('Time Period')\n",
    "plt.ylabel('Standardized Close Value')\n",
    "plt.title('')\n",
    "\n",
    "window_size = 5\n",
    "X,y = create_training_window(original_series = nifty50_close_standardized,window_size = window_size)\n",
    "\n",
    "pivot = 184\n",
    "X_train = X[:pivot,:]\n",
    "y_train = y[:pivot]\n",
    "X_test = X[pivot:,:]\n",
    "y_test = y[pivot:]\n",
    "# reshaping to be used with LSTM in Keras\n",
    "X_train = np.asarray(np.reshape(X_train, (X_train.shape[0], window_size, 1)))\n",
    "X_test = np.asarray(np.reshape(X_test, (X_test.shape[0], window_size, 1)))\n",
    "\n",
    "np.random.seed(0)\n",
    "\n",
    "# defining the lstm model\n",
    "model = Sequential()\n",
    "model.add(LSTM(5, input_shape=(window_size, 1)))\n",
    "model.add(Dense(1))\n",
    "optimizer = keras.optimizers.RMSprop(lr=0.001, rho=0.9, epsilon=1e-08, decay=0.0)\n",
    "\n",
    "# compile the model\n",
    "model.compile(loss='mean_squared_error', optimizer=optimizer)\n",
    "\n",
    "# running the model on train data\n",
    "model.fit(X_train, y_train, epochs=500, batch_size=32, verbose=0)\n",
    "\n",
    "# calculating predictions for training\n",
    "train_predict = model.predict(X_train)\n",
    "test_predict = model.predict(X_test)\n",
    "\n",
    "training_error = model.evaluate(X_train, y_train, verbose=0)\n",
    "print('training error = ' + str(training_error))\n",
    "\n",
    "testing_error = model.evaluate(X_test, y_test, verbose=0)\n",
    "print('testing error = ' + str(testing_error))\n",
    "\n",
    "# plot original series\n",
    "plt.plot(nifty50_close_normalized,color = 'k')\n",
    "\n",
    "# plot training set prediction\n",
    "split_pt = pivot + window_size \n",
    "plt.plot(np.arange(window_size,split_pt,1),train_predict,color = 'b')\n",
    "\n",
    "# plot testing set prediction\n",
    "plt.plot(np.arange(split_pt,split_pt + len(test_predict),1),test_predict,color = 'r')\n",
    "\n",
    "# pretty up graph\n",
    "plt.xlabel('day')\n",
    "plt.ylabel('Standardized closing price of Nifty50')\n",
    "plt.legend(['original series','training fit','testing fit'],loc='center left', bbox_to_anchor=(1, 0.5))\n",
    "plt.show()"
   ]
  },
  {
   "cell_type": "markdown",
   "metadata": {},
   "source": [
    "We observe that training and testing errors are way higher when using standardized data compare to normalized data. Training error is around 19.56 times higher and testing error is around 20.8 times higher when model is trained on standardized data compared to normalized data. This is evident from the predictions plot. This means the data is less sensitive to features and needed centrization. \n",
    "\n",
    "**Thus we discard the deep learning model trained on standardized data (deep_model2) and approve the deep learning model trained on normalized data (deep_model1).** \n",
    "\n",
    "We shall therefore find the MAE of our linear regression model4 and set this new model as the benchmark model."
   ]
  },
  {
   "cell_type": "markdown",
   "metadata": {},
   "source": [
    "Running Linear Regression on normalized data"
   ]
  },
  {
   "cell_type": "code",
   "execution_count": 161,
   "metadata": {},
   "outputs": [
    {
     "name": "stdout",
     "output_type": "stream",
     "text": [
      "       Open      High       Low     Close\n",
      "0  0.603337  0.628947  0.527067  0.585395\n",
      "1  0.543690  0.535209  0.445923  0.438134\n",
      "2  0.356422  0.389639  0.361026  0.384096\n",
      "3  0.183034  0.326955  0.184465  0.287397\n",
      "4  0.358048  0.338413  0.281190  0.275015\n"
     ]
    }
   ],
   "source": [
    "import pandas as pd\n",
    "subset_columns = [\"Open\", \"High\", \"Low\", \"Close\"]\n",
    "nifty50_data_lr4_subset = nifty50_data[subset_columns]\n",
    "x = nifty50_data_numeric.values\n",
    "min_max_scaler = preprocessing.MinMaxScaler()\n",
    "x_scaled = min_max_scaler.fit_transform(nifty50_data_lr4_subset)\n",
    "nifty50_lr4_normalized = pd.DataFrame(x_scaled)\n",
    "nifty50_lr4_normalized.reset_index(drop=True, inplace=True)\n",
    "nifty50_lr4_normalized.columns = subset_columns\n",
    "print(nifty50_lr4_normalized.head())"
   ]
  },
  {
   "cell_type": "code",
   "execution_count": 166,
   "metadata": {},
   "outputs": [],
   "source": [
    "train_data_normalized=nifty50_lr4_normalized[0:184]\n",
    "test_data_normalized=nifty50_lr4_normalized[184:]\n",
    "test_X_normalized\n",
    "predictors_normalized = [\"Open\", \"High\", \"Low\"]\n",
    "target_normalized = [\"Close\"]\n",
    "\n",
    "train_X_normalized = train_data_normalized[predictors_normalized]\n",
    "train_y_normalized = train_data_normalized[target_normalized]\n",
    "test_X_normalized = test_data_normalized[predictors_normalized]\n",
    "test_y_normalized = test_data_normalized[target_normalized]"
   ]
  },
  {
   "cell_type": "code",
   "execution_count": 170,
   "metadata": {},
   "outputs": [
    {
     "data": {
      "text/html": [
       "<table class=\"simpletable\">\n",
       "<caption>OLS Regression Results</caption>\n",
       "<tr>\n",
       "  <th>Dep. Variable:</th>          <td>Close</td>      <th>  R-squared:         </th> <td>   0.999</td> \n",
       "</tr>\n",
       "<tr>\n",
       "  <th>Model:</th>                   <td>OLS</td>       <th>  Adj. R-squared:    </th> <td>   0.999</td> \n",
       "</tr>\n",
       "<tr>\n",
       "  <th>Method:</th>             <td>Least Squares</td>  <th>  F-statistic:       </th> <td>6.418e+04</td>\n",
       "</tr>\n",
       "<tr>\n",
       "  <th>Date:</th>             <td>Fri, 15 Feb 2019</td> <th>  Prob (F-statistic):</th> <td>1.16e-273</td>\n",
       "</tr>\n",
       "<tr>\n",
       "  <th>Time:</th>                 <td>16:26:30</td>     <th>  Log-Likelihood:    </th> <td>  507.39</td> \n",
       "</tr>\n",
       "<tr>\n",
       "  <th>No. Observations:</th>      <td>   184</td>      <th>  AIC:               </th> <td>  -1009.</td> \n",
       "</tr>\n",
       "<tr>\n",
       "  <th>Df Residuals:</th>          <td>   181</td>      <th>  BIC:               </th> <td>  -999.1</td> \n",
       "</tr>\n",
       "<tr>\n",
       "  <th>Df Model:</th>              <td>     3</td>      <th>                     </th>     <td> </td>    \n",
       "</tr>\n",
       "<tr>\n",
       "  <th>Covariance Type:</th>      <td>nonrobust</td>    <th>                     </th>     <td> </td>    \n",
       "</tr>\n",
       "</table>\n",
       "<table class=\"simpletable\">\n",
       "<tr>\n",
       "    <td></td>      <th>coef</th>     <th>std err</th>      <th>t</th>      <th>P>|t|</th>  <th>[0.025</th>    <th>0.975]</th>  \n",
       "</tr>\n",
       "<tr>\n",
       "  <th>Open</th> <td>   -0.6824</td> <td>    0.049</td> <td>  -14.055</td> <td> 0.000</td> <td>   -0.778</td> <td>   -0.587</td>\n",
       "</tr>\n",
       "<tr>\n",
       "  <th>High</th> <td>    0.9701</td> <td>    0.049</td> <td>   19.801</td> <td> 0.000</td> <td>    0.873</td> <td>    1.067</td>\n",
       "</tr>\n",
       "<tr>\n",
       "  <th>Low</th>  <td>    0.7078</td> <td>    0.034</td> <td>   20.791</td> <td> 0.000</td> <td>    0.641</td> <td>    0.775</td>\n",
       "</tr>\n",
       "</table>\n",
       "<table class=\"simpletable\">\n",
       "<tr>\n",
       "  <th>Omnibus:</th>       <td> 7.114</td> <th>  Durbin-Watson:     </th> <td>   2.090</td>\n",
       "</tr>\n",
       "<tr>\n",
       "  <th>Prob(Omnibus):</th> <td> 0.029</td> <th>  Jarque-Bera (JB):  </th> <td>  12.291</td>\n",
       "</tr>\n",
       "<tr>\n",
       "  <th>Skew:</th>          <td> 0.046</td> <th>  Prob(JB):          </th> <td> 0.00214</td>\n",
       "</tr>\n",
       "<tr>\n",
       "  <th>Kurtosis:</th>      <td> 4.263</td> <th>  Cond. No.          </th> <td>    50.0</td>\n",
       "</tr>\n",
       "</table><br/><br/>Warnings:<br/>[1] Standard Errors assume that the covariance matrix of the errors is correctly specified."
      ],
      "text/plain": [
       "<class 'statsmodels.iolib.summary.Summary'>\n",
       "\"\"\"\n",
       "                            OLS Regression Results                            \n",
       "==============================================================================\n",
       "Dep. Variable:                  Close   R-squared:                       0.999\n",
       "Model:                            OLS   Adj. R-squared:                  0.999\n",
       "Method:                 Least Squares   F-statistic:                 6.418e+04\n",
       "Date:                Fri, 15 Feb 2019   Prob (F-statistic):          1.16e-273\n",
       "Time:                        16:26:30   Log-Likelihood:                 507.39\n",
       "No. Observations:                 184   AIC:                            -1009.\n",
       "Df Residuals:                     181   BIC:                            -999.1\n",
       "Df Model:                           3                                         \n",
       "Covariance Type:            nonrobust                                         \n",
       "==============================================================================\n",
       "                 coef    std err          t      P>|t|      [0.025      0.975]\n",
       "------------------------------------------------------------------------------\n",
       "Open          -0.6824      0.049    -14.055      0.000      -0.778      -0.587\n",
       "High           0.9701      0.049     19.801      0.000       0.873       1.067\n",
       "Low            0.7078      0.034     20.791      0.000       0.641       0.775\n",
       "==============================================================================\n",
       "Omnibus:                        7.114   Durbin-Watson:                   2.090\n",
       "Prob(Omnibus):                  0.029   Jarque-Bera (JB):               12.291\n",
       "Skew:                           0.046   Prob(JB):                      0.00214\n",
       "Kurtosis:                       4.263   Cond. No.                         50.0\n",
       "==============================================================================\n",
       "\n",
       "Warnings:\n",
       "[1] Standard Errors assume that the covariance matrix of the errors is correctly specified.\n",
       "\"\"\""
      ]
     },
     "execution_count": 170,
     "metadata": {},
     "output_type": "execute_result"
    }
   ],
   "source": [
    "X=pd.DataFrame(train_X_normalized)\n",
    "y=pd.DataFrame(train_y_normalized)\n",
    "model_lr4_normalized = sm.OLS(y, X).fit()\n",
    "model_lr4_normalized.summary()"
   ]
  },
  {
   "cell_type": "markdown",
   "metadata": {},
   "source": [
    "**MAE for model 4 for normalized data**"
   ]
  },
  {
   "cell_type": "markdown",
   "metadata": {},
   "source": [
    "This model (model_lr4_normalized) is excellent and far better than _model4_ because its R-squared and Adj. R-squared are 0.999 which is higher than that of model4 and AIC (-1009.0 compared to previous -445.7) as well as BIC (-999.1 compared to previous -436.1) are significantly low, thus making this model (model_lr4_normalized) far superior than model4. We therefore set model_lr4_normalized as the benchmark model and will now calculate the error associated with this model and compare that with deep_model1. Based on the comparison between model_lr4_normalized and deep_model1, we will choose the model with low error as our final model."
   ]
  },
  {
   "cell_type": "code",
   "execution_count": 180,
   "metadata": {},
   "outputs": [
    {
     "name": "stdout",
     "output_type": "stream",
     "text": [
      "MAE for model4 Normalized: 0.013157676547658754\n"
     ]
    }
   ],
   "source": [
    "predictions_lr4_normalized  = model_lr4_normalized.predict(test_X_normalized)\n",
    "mae_lr4_normalized =mean_absolute_error(test_y_normalized, predictions_lr4_normalized)\n",
    "print(\"MAE for model4 Normalized: %s\"%(str(mae_lr4_normalized)))"
   ]
  },
  {
   "cell_type": "markdown",
   "metadata": {},
   "source": [
    "We therefore conclude that normalized data shall be used instead of standardized data. The close price is sufficient to be put with LSTM for forecasting prices three months in advance. The testing error of deep_model1 (0.0025014345261171974) is significantly less than the MAE (0.013157676547658754) of benchmark linear regression model. Thus, the error of deep learning model is around (1/65)th of the error associated with best linear regression model. We therefore conclude our deep learning model forecasts the closing price of Nifty50 very well 3 months in advance. "
   ]
  },
  {
   "cell_type": "code",
   "execution_count": null,
   "metadata": {},
   "outputs": [],
   "source": []
  }
 ],
 "metadata": {
  "kernelspec": {
   "display_name": "Python 3",
   "language": "python",
   "name": "python3"
  },
  "language_info": {
   "codemirror_mode": {
    "name": "ipython",
    "version": 3
   },
   "file_extension": ".py",
   "mimetype": "text/x-python",
   "name": "python",
   "nbconvert_exporter": "python",
   "pygments_lexer": "ipython3",
   "version": "3.7.2"
  }
 },
 "nbformat": 4,
 "nbformat_minor": 2
}
